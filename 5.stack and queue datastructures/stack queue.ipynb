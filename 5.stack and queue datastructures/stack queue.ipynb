{
 "cells": [
  {
   "cell_type": "code",
   "execution_count": 1,
   "metadata": {},
   "outputs": [],
   "source": [
    "#stack: A linear list in which insertions & delections are allowed at one end only\n",
    "#queue: A linear list in which insertions are allowed at one end and deletions are allowed at other end"
   ]
  },
  {
   "cell_type": "code",
   "execution_count": 2,
   "metadata": {},
   "outputs": [
    {
     "name": "stdout",
     "output_type": "stream",
     "text": [
      "[10]\n",
      "[10, 20]\n",
      "[10, 20, 30]\n"
     ]
    }
   ],
   "source": [
    "stack1 = []\n",
    "\n",
    "#push operations into stack\n",
    "stack1.append(10)\n",
    "print(stack1)\n",
    "stack1.append(20)\n",
    "print(stack1)\n",
    "stack1.append(30)\n",
    "print(stack1)"
   ]
  },
  {
   "cell_type": "code",
   "execution_count": 3,
   "metadata": {},
   "outputs": [
    {
     "name": "stdout",
     "output_type": "stream",
     "text": [
      "30\n",
      "[10, 20]\n",
      "20\n",
      "[10]\n"
     ]
    }
   ],
   "source": [
    "#pop operations from stack\n",
    "print(stack1.pop())\n",
    "print(stack1)\n",
    "print(stack1.pop())\n",
    "print(stack1)"
   ]
  },
  {
   "cell_type": "code",
   "execution_count": 4,
   "metadata": {},
   "outputs": [
    {
     "name": "stdout",
     "output_type": "stream",
     "text": [
      "[10]\n",
      "[10, 20]\n"
     ]
    }
   ],
   "source": [
    "queue1 = []\n",
    "\n",
    "#add elements to queue\n",
    "queue1.append(10)\n",
    "print(queue1)\n",
    "queue1.append(20)\n",
    "print(queue1)"
   ]
  },
  {
   "cell_type": "code",
   "execution_count": 5,
   "metadata": {},
   "outputs": [
    {
     "name": "stdout",
     "output_type": "stream",
     "text": [
      "10\n",
      "[20]\n"
     ]
    }
   ],
   "source": [
    "#deleting elements from queue\n",
    "print(queue1.pop(0))\n",
    "print(queue1)"
   ]
  },
  {
   "cell_type": "code",
   "execution_count": 6,
   "metadata": {},
   "outputs": [],
   "source": [
    "from queue import Queue"
   ]
  },
  {
   "cell_type": "code",
   "execution_count": 10,
   "metadata": {},
   "outputs": [
    {
     "name": "stdout",
     "output_type": "stream",
     "text": [
      "<queue.Queue object at 0x0000019D84D09F88>\n"
     ]
    }
   ],
   "source": [
    "queue2 = Queue()\n",
    "print(queue2)"
   ]
  },
  {
   "cell_type": "code",
   "execution_count": 11,
   "metadata": {},
   "outputs": [
    {
     "name": "stdout",
     "output_type": "stream",
     "text": [
      "deque([10, 20])\n",
      "10\n",
      "deque([20])\n"
     ]
    }
   ],
   "source": [
    "queue2.put(10)\n",
    "queue2.put(20)\n",
    "print(queue2.queue)\n",
    "print(queue2.get())\n",
    "print(queue2.queue)"
   ]
  },
  {
   "cell_type": "code",
   "execution_count": null,
   "metadata": {},
   "outputs": [],
   "source": []
  }
 ],
 "metadata": {
  "kernelspec": {
   "display_name": "Python 3",
   "language": "python",
   "name": "python3"
  },
  "language_info": {
   "codemirror_mode": {
    "name": "ipython",
    "version": 3
   },
   "file_extension": ".py",
   "mimetype": "text/x-python",
   "name": "python",
   "nbconvert_exporter": "python",
   "pygments_lexer": "ipython3",
   "version": "3.7.4"
  }
 },
 "nbformat": 4,
 "nbformat_minor": 4
}
