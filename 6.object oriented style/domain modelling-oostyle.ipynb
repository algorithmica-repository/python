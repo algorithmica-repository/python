{
 "cells": [
  {
   "cell_type": "code",
   "execution_count": 1,
   "metadata": {},
   "outputs": [],
   "source": [
    "#Model the following business requirement using procedural and object oriented styles\n",
    "#invoice\n",
    "#address1\n",
    "#address2\n",
    "#description    qty  costperunit  totalcost\n",
    "#item1           2    10            20\n",
    "#Due Amount:"
   ]
  },
  {
   "cell_type": "code",
   "execution_count": 4,
   "metadata": {},
   "outputs": [],
   "source": [
    "class Product():\n",
    "    def __init__(self, description, costperunit):\n",
    "        self.__description = description\n",
    "        self.__costperunit = costperunit\n",
    "    def display(self):\n",
    "        pass\n",
    "class LineItem():\n",
    "    def __init__(self, product, qty):\n",
    "        self.__product = product\n",
    "        self.__qty = qty\n",
    "    def display(self):\n",
    "        pass\n",
    "class Address():\n",
    "    def __init__(self, city):\n",
    "        self.__city = city\n",
    "    def display(self):\n",
    "        pass\n",
    "class Invoice():\n",
    "    def __init__(self, address):\n",
    "        self.__address = address\n",
    "        self.__items = []\n",
    "    def addLineItem(self, item):\n",
    "        self.__items.append(item)\n",
    "    def display(self):\n",
    "        pass"
   ]
  },
  {
   "cell_type": "code",
   "execution_count": 5,
   "metadata": {},
   "outputs": [],
   "source": [
    "a1 = Address('hyd')\n",
    "inv1 = Invoice(a1)\n",
    "p1 = Product('desc1', 5)\n",
    "l1 = LineItem(p1, 10)\n",
    "inv1.addLineItem(l1)\n",
    "inv1.display()"
   ]
  },
  {
   "cell_type": "code",
   "execution_count": null,
   "metadata": {},
   "outputs": [],
   "source": []
  }
 ],
 "metadata": {
  "kernelspec": {
   "display_name": "Python 3",
   "language": "python",
   "name": "python3"
  },
  "language_info": {
   "codemirror_mode": {
    "name": "ipython",
    "version": 3
   },
   "file_extension": ".py",
   "mimetype": "text/x-python",
   "name": "python",
   "nbconvert_exporter": "python",
   "pygments_lexer": "ipython3",
   "version": "3.7.4"
  }
 },
 "nbformat": 4,
 "nbformat_minor": 4
}
