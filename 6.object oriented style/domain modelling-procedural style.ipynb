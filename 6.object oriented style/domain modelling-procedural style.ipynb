{
 "cells": [
  {
   "cell_type": "code",
   "execution_count": 1,
   "metadata": {},
   "outputs": [],
   "source": [
    "#Model the following business requirement using procedural and object oriented styles\n",
    "#invoice\n",
    "#address1\n",
    "#address2\n",
    "#description    qty  costperunit  totalcost\n",
    "#item1           2    10            20\n",
    "#Due Amount:"
   ]
  },
  {
   "cell_type": "code",
   "execution_count": 3,
   "metadata": {},
   "outputs": [],
   "source": [
    "class Product():\n",
    "    def __init__(self, description, costperunit):\n",
    "        self.description = description\n",
    "        self.costperunit = costperunit\n",
    "class LineItem():\n",
    "    def __init__(self, product, qty):\n",
    "        self.product = product\n",
    "        self.qty = qty\n",
    "class Address():\n",
    "    def __init__(self, city):\n",
    "        self.city = city\n",
    "class Invoice():\n",
    "    def __init__(self, address, items):\n",
    "        self.address = address\n",
    "        self.items = items\n",
    "        \n",
    "def displayInvoice(invoice):\n",
    "    displayAddress(invoice.address)\n",
    "    displayHeader()\n",
    "    for i in range(len(invoice.items)):\n",
    "        displayLineItem(inovice.items[i])\n",
    "    due = calcDue(invoice.items)\n",
    "    displayDue(due)"
   ]
  },
  {
   "cell_type": "code",
   "execution_count": 4,
   "metadata": {},
   "outputs": [],
   "source": [
    "a1 = Address('hyd')\n",
    "p1 = Product('desc1', 10)\n",
    "p2 = Product('desc2', 20)\n",
    "l1 = LineItem(p1, 2)\n",
    "l2 = LineItem(p2, 5)\n",
    "lineitems = [l1, l2]\n",
    "inv1 = Invoice(a1,lineitems)"
   ]
  },
  {
   "cell_type": "code",
   "execution_count": 5,
   "metadata": {},
   "outputs": [
    {
     "ename": "NameError",
     "evalue": "name 'displayAddress' is not defined",
     "output_type": "error",
     "traceback": [
      "\u001b[1;31m---------------------------------------------------------------------------\u001b[0m",
      "\u001b[1;31mNameError\u001b[0m                                 Traceback (most recent call last)",
      "\u001b[1;32m<ipython-input-5-36cc5db25035>\u001b[0m in \u001b[0;36m<module>\u001b[1;34m\u001b[0m\n\u001b[1;32m----> 1\u001b[1;33m \u001b[0mdisplayInvoice\u001b[0m\u001b[1;33m(\u001b[0m\u001b[0minv1\u001b[0m\u001b[1;33m)\u001b[0m\u001b[1;33m\u001b[0m\u001b[1;33m\u001b[0m\u001b[0m\n\u001b[0m",
      "\u001b[1;32m<ipython-input-3-6f33d0e38248>\u001b[0m in \u001b[0;36mdisplayInvoice\u001b[1;34m(invoice)\u001b[0m\n\u001b[0;32m     16\u001b[0m \u001b[1;33m\u001b[0m\u001b[0m\n\u001b[0;32m     17\u001b[0m \u001b[1;32mdef\u001b[0m \u001b[0mdisplayInvoice\u001b[0m\u001b[1;33m(\u001b[0m\u001b[0minvoice\u001b[0m\u001b[1;33m)\u001b[0m\u001b[1;33m:\u001b[0m\u001b[1;33m\u001b[0m\u001b[1;33m\u001b[0m\u001b[0m\n\u001b[1;32m---> 18\u001b[1;33m     \u001b[0mdisplayAddress\u001b[0m\u001b[1;33m(\u001b[0m\u001b[0minvoice\u001b[0m\u001b[1;33m.\u001b[0m\u001b[0maddress\u001b[0m\u001b[1;33m)\u001b[0m\u001b[1;33m\u001b[0m\u001b[1;33m\u001b[0m\u001b[0m\n\u001b[0m\u001b[0;32m     19\u001b[0m     \u001b[0mdisplayHeader\u001b[0m\u001b[1;33m(\u001b[0m\u001b[1;33m)\u001b[0m\u001b[1;33m\u001b[0m\u001b[1;33m\u001b[0m\u001b[0m\n\u001b[0;32m     20\u001b[0m     \u001b[1;32mfor\u001b[0m \u001b[0mi\u001b[0m \u001b[1;32min\u001b[0m \u001b[0mrange\u001b[0m\u001b[1;33m(\u001b[0m\u001b[0mlen\u001b[0m\u001b[1;33m(\u001b[0m\u001b[0minvoice\u001b[0m\u001b[1;33m.\u001b[0m\u001b[0mitems\u001b[0m\u001b[1;33m)\u001b[0m\u001b[1;33m)\u001b[0m\u001b[1;33m:\u001b[0m\u001b[1;33m\u001b[0m\u001b[1;33m\u001b[0m\u001b[0m\n",
      "\u001b[1;31mNameError\u001b[0m: name 'displayAddress' is not defined"
     ]
    }
   ],
   "source": [
    "displayInvoice(inv1)"
   ]
  },
  {
   "cell_type": "code",
   "execution_count": null,
   "metadata": {},
   "outputs": [],
   "source": []
  }
 ],
 "metadata": {
  "kernelspec": {
   "display_name": "Python 3",
   "language": "python",
   "name": "python3"
  },
  "language_info": {
   "codemirror_mode": {
    "name": "ipython",
    "version": 3
   },
   "file_extension": ".py",
   "mimetype": "text/x-python",
   "name": "python",
   "nbconvert_exporter": "python",
   "pygments_lexer": "ipython3",
   "version": "3.7.4"
  }
 },
 "nbformat": 4,
 "nbformat_minor": 4
}
