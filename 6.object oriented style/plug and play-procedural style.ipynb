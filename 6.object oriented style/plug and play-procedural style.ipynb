{
 "cells": [
  {
   "cell_type": "code",
   "execution_count": 2,
   "metadata": {},
   "outputs": [],
   "source": [
    "def create():\n",
    "    return []\n",
    "\n",
    "def push(stack, x):\n",
    "    stack.insert(0, x)\n",
    "    \n",
    "def pop(stack):\n",
    "    return stack.pop(0)\n",
    "\n",
    "def display(stack):\n",
    "    print(stack)"
   ]
  },
  {
   "cell_type": "code",
   "execution_count": 3,
   "metadata": {},
   "outputs": [
    {
     "name": "stdout",
     "output_type": "stream",
     "text": [
      "[]\n",
      "[10]\n",
      "[20, 10]\n",
      "20\n",
      "[10]\n"
     ]
    }
   ],
   "source": [
    "s1 = create()\n",
    "display(s1)\n",
    "push(s1, 10)\n",
    "display(s1)\n",
    "push(s1, 20)\n",
    "display(s1)\n",
    "print(pop(s1))\n",
    "display(s1)"
   ]
  },
  {
   "cell_type": "code",
   "execution_count": 5,
   "metadata": {},
   "outputs": [],
   "source": [
    "def createV2():\n",
    "    return []\n",
    "\n",
    "def pushV2(stack, x):\n",
    "    stack.append(x)\n",
    "    \n",
    "def popV2(stack):\n",
    "    return stack.pop()\n",
    "\n",
    "def displayV2(stack):\n",
    "    print(stack)"
   ]
  },
  {
   "cell_type": "code",
   "execution_count": 6,
   "metadata": {},
   "outputs": [
    {
     "name": "stdout",
     "output_type": "stream",
     "text": [
      "[]\n",
      "[10]\n",
      "[10, 20]\n",
      "20\n",
      "[10]\n"
     ]
    }
   ],
   "source": [
    "s1 = createV2()\n",
    "displayV2(s1)\n",
    "pushV2(s1, 10)\n",
    "displayV2(s1)\n",
    "pushV2(s1, 20)\n",
    "displayV2(s1)\n",
    "print(popV2(s1))\n",
    "displayV2(s1)"
   ]
  },
  {
   "cell_type": "code",
   "execution_count": null,
   "metadata": {},
   "outputs": [],
   "source": []
  }
 ],
 "metadata": {
  "kernelspec": {
   "display_name": "Python 3",
   "language": "python",
   "name": "python3"
  },
  "language_info": {
   "codemirror_mode": {
    "name": "ipython",
    "version": 3
   },
   "file_extension": ".py",
   "mimetype": "text/x-python",
   "name": "python",
   "nbconvert_exporter": "python",
   "pygments_lexer": "ipython3",
   "version": "3.7.4"
  }
 },
 "nbformat": 4,
 "nbformat_minor": 4
}
