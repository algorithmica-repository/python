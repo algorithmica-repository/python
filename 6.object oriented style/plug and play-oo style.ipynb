{
 "cells": [
  {
   "cell_type": "code",
   "execution_count": 2,
   "metadata": {},
   "outputs": [],
   "source": [
    "class StackV1():\n",
    "    def __init__(self):\n",
    "        self.__list = []\n",
    "    def push(self, x):\n",
    "        self.__list.insert(0, x)\n",
    "    def pop(self):\n",
    "        return self.__list.pop(0)\n",
    "    def __repr__(self):\n",
    "        return str(self.__list)"
   ]
  },
  {
   "cell_type": "code",
   "execution_count": 3,
   "metadata": {},
   "outputs": [
    {
     "name": "stdout",
     "output_type": "stream",
     "text": [
      "[]\n",
      "[100]\n",
      "[200, 100]\n",
      "200\n",
      "[100]\n"
     ]
    }
   ],
   "source": [
    "s1 = StackV1()\n",
    "print(s1)\n",
    "s1.push(100)\n",
    "print(s1)\n",
    "s1.push(200)\n",
    "print(s1)\n",
    "print(s1.pop())\n",
    "print(s1)"
   ]
  },
  {
   "cell_type": "code",
   "execution_count": 4,
   "metadata": {},
   "outputs": [],
   "source": [
    "class StackV2():\n",
    "    def __init__(self):\n",
    "        self.__list = []\n",
    "    def push(self, x):\n",
    "        self.__list.append(x)\n",
    "    def pop(self):\n",
    "        return self.__list.pop()\n",
    "    def __repr__(self):\n",
    "        return str(self.__list)"
   ]
  },
  {
   "cell_type": "code",
   "execution_count": 5,
   "metadata": {},
   "outputs": [
    {
     "name": "stdout",
     "output_type": "stream",
     "text": [
      "[]\n",
      "[100]\n",
      "[100, 200]\n",
      "200\n",
      "[100]\n"
     ]
    }
   ],
   "source": [
    "s1 = StackV2()\n",
    "print(s1)\n",
    "s1.push(100)\n",
    "print(s1)\n",
    "s1.push(200)\n",
    "print(s1)\n",
    "print(s1.pop())\n",
    "print(s1)"
   ]
  },
  {
   "cell_type": "code",
   "execution_count": null,
   "metadata": {},
   "outputs": [],
   "source": []
  }
 ],
 "metadata": {
  "kernelspec": {
   "display_name": "Python 3",
   "language": "python",
   "name": "python3"
  },
  "language_info": {
   "codemirror_mode": {
    "name": "ipython",
    "version": 3
   },
   "file_extension": ".py",
   "mimetype": "text/x-python",
   "name": "python",
   "nbconvert_exporter": "python",
   "pygments_lexer": "ipython3",
   "version": "3.7.4"
  }
 },
 "nbformat": 4,
 "nbformat_minor": 4
}
