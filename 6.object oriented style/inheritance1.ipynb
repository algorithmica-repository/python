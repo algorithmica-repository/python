{
 "cells": [
  {
   "cell_type": "code",
   "execution_count": 7,
   "metadata": {},
   "outputs": [],
   "source": [
    "class StackBase():\n",
    "    def __init__(self):\n",
    "        self._list = []    \n",
    "    def __repr__(self):\n",
    "        return str(self._list)"
   ]
  },
  {
   "cell_type": "code",
   "execution_count": 8,
   "metadata": {},
   "outputs": [],
   "source": [
    "class StackV1(StackBase):\n",
    "    def push(self, x):\n",
    "        self._list.insert(0, x)\n",
    "    def pop(self):\n",
    "        return self._list.pop(0)"
   ]
  },
  {
   "cell_type": "code",
   "execution_count": 9,
   "metadata": {},
   "outputs": [],
   "source": [
    "class StackV2(StackBase):\n",
    "    def push(self, x):\n",
    "        self._list.append(x)\n",
    "    def pop(self):\n",
    "        return self._list.pop()"
   ]
  },
  {
   "cell_type": "code",
   "execution_count": 11,
   "metadata": {},
   "outputs": [
    {
     "name": "stdout",
     "output_type": "stream",
     "text": [
      "[]\n",
      "[10]\n",
      "[20, 10]\n",
      "20\n",
      "[10]\n"
     ]
    }
   ],
   "source": [
    "s1 = StackV1()\n",
    "print(s1)\n",
    "s1.push(10)\n",
    "print(s1)\n",
    "s1.push(20)\n",
    "print(s1)\n",
    "print(s1.pop())\n",
    "print(s1)"
   ]
  },
  {
   "cell_type": "code",
   "execution_count": 13,
   "metadata": {},
   "outputs": [
    {
     "name": "stdout",
     "output_type": "stream",
     "text": [
      "[]\n",
      "[100]\n",
      "[100, 200]\n",
      "200\n",
      "[100]\n"
     ]
    }
   ],
   "source": [
    "s2 = StackV2()\n",
    "print(s2)\n",
    "s2.push(100)\n",
    "print(s2)\n",
    "s2.push(200)\n",
    "print(s2)\n",
    "print(s2.pop())\n",
    "print(s2)"
   ]
  },
  {
   "cell_type": "code",
   "execution_count": null,
   "metadata": {},
   "outputs": [],
   "source": []
  }
 ],
 "metadata": {
  "kernelspec": {
   "display_name": "Python 3",
   "language": "python",
   "name": "python3"
  },
  "language_info": {
   "codemirror_mode": {
    "name": "ipython",
    "version": 3
   },
   "file_extension": ".py",
   "mimetype": "text/x-python",
   "name": "python",
   "nbconvert_exporter": "python",
   "pygments_lexer": "ipython3",
   "version": "3.7.4"
  }
 },
 "nbformat": 4,
 "nbformat_minor": 4
}
