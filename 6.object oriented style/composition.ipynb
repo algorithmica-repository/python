{
 "cells": [
  {
   "cell_type": "code",
   "execution_count": 10,
   "metadata": {},
   "outputs": [],
   "source": [
    "class Person():\n",
    "    def __init__(self, name, street, city, zip, country):\n",
    "        self.__name = name\n",
    "        self.__street = street\n",
    "        self.__city = city\n",
    "        self.__zip = zip\n",
    "        self.__country = country\n",
    "        self.__courses = None\n",
    "    def addCourse(self, course):\n",
    "        self.__courses.append(course)\n",
    "    def __repr__(self):\n",
    "        return self.__name + \",\" + self.__street + \",\" + self.__city + \",\" + \\\n",
    "                str(self.__zip) + \",\" + self.__country +\",\" + str(self.__courses)"
   ]
  },
  {
   "cell_type": "code",
   "execution_count": 11,
   "metadata": {},
   "outputs": [
    {
     "name": "stdout",
     "output_type": "stream",
     "text": [
      "abc,s1,hyd,500030,INDIA,None\n"
     ]
    }
   ],
   "source": [
    "p1 = Person('abc', 's1', 'hyd', 500030, 'INDIA')\n",
    "print(p1)"
   ]
  },
  {
   "cell_type": "code",
   "execution_count": 12,
   "metadata": {},
   "outputs": [],
   "source": [
    "class Company():\n",
    "    def __init__(self, name, street, city, zip, country):\n",
    "        self.__name = name\n",
    "        self.__street = street\n",
    "        self.__city = city\n",
    "        self.__zip = zip\n",
    "        self.__country = country\n",
    "        self.__turnover = None\n",
    "    def addTurnover(self, turnover):\n",
    "        self.__turnover = turnover\n",
    "    def __repr__(self):\n",
    "        return self.__name + \",\" + self.__street + \",\" + self.__city + \",\" + \\\n",
    "                str(self.__zip) + \",\" + self.__country +\",\" + str(self.__turnover)"
   ]
  },
  {
   "cell_type": "code",
   "execution_count": 13,
   "metadata": {},
   "outputs": [],
   "source": [
    "c1 = Company('Algorithmica', 's1', 'hyd', 500072, 'INDIA')"
   ]
  },
  {
   "cell_type": "code",
   "execution_count": 14,
   "metadata": {},
   "outputs": [
    {
     "name": "stdout",
     "output_type": "stream",
     "text": [
      "Algorithmica,s1,hyd,500072,INDIA,None\n"
     ]
    }
   ],
   "source": [
    "print(c1)"
   ]
  },
  {
   "cell_type": "code",
   "execution_count": 17,
   "metadata": {},
   "outputs": [],
   "source": [
    "#Designing classes using composition\n",
    "class Address():\n",
    "    def __init__(self, name, street, city, zip, country):\n",
    "        self.__name = name\n",
    "        self.__street = street\n",
    "        self.__city = city\n",
    "        self.__zip = zip\n",
    "        self.__country = country    \n",
    "    def __repr__(self):\n",
    "        return self.__name + \",\" + self.__street + \",\" + self.__city + \",\" + \\\n",
    "                str(self.__zip) + \",\" + self.__country        "
   ]
  },
  {
   "cell_type": "code",
   "execution_count": 23,
   "metadata": {},
   "outputs": [],
   "source": [
    "class Person():\n",
    "    def __init__(self, address):\n",
    "        self.__address = address\n",
    "        self.__courses = None\n",
    "    def addCourse(self, course):\n",
    "        self.__courses.append(course)\n",
    "    def __repr__(self):\n",
    "        return str(self.__address) +\",\" + str(self.__courses)"
   ]
  },
  {
   "cell_type": "code",
   "execution_count": 24,
   "metadata": {},
   "outputs": [
    {
     "name": "stdout",
     "output_type": "stream",
     "text": [
      "abc,s1,hyd,500030,INDIA,None\n"
     ]
    }
   ],
   "source": [
    "a1 = Address('abc', 's1', 'hyd', 500030, 'INDIA')\n",
    "p1 = Person(a1)\n",
    "print(p1)"
   ]
  },
  {
   "cell_type": "code",
   "execution_count": 28,
   "metadata": {},
   "outputs": [],
   "source": [
    "class Company():\n",
    "    def __init__(self, address):\n",
    "        self.__address = address\n",
    "        self.__turnover = None\n",
    "    def addTurnover(self, turnover):\n",
    "        self.__turnover = turnover\n",
    "    def __repr__(self):\n",
    "        return str(self.__address) +\",\" + str(self.__turnover)"
   ]
  },
  {
   "cell_type": "code",
   "execution_count": 29,
   "metadata": {},
   "outputs": [
    {
     "name": "stdout",
     "output_type": "stream",
     "text": [
      "Algorithmica,s1,hyd,500072,INDIA,None\n"
     ]
    }
   ],
   "source": [
    "a2 = Address('Algorithmica', 's1', 'hyd', 500072, 'INDIA')\n",
    "c1 = Company(a2)\n",
    "print(c1)"
   ]
  },
  {
   "cell_type": "code",
   "execution_count": null,
   "metadata": {},
   "outputs": [],
   "source": []
  }
 ],
 "metadata": {
  "kernelspec": {
   "display_name": "Python 3",
   "language": "python",
   "name": "python3"
  },
  "language_info": {
   "codemirror_mode": {
    "name": "ipython",
    "version": 3
   },
   "file_extension": ".py",
   "mimetype": "text/x-python",
   "name": "python",
   "nbconvert_exporter": "python",
   "pygments_lexer": "ipython3",
   "version": "3.7.4"
  }
 },
 "nbformat": 4,
 "nbformat_minor": 4
}
