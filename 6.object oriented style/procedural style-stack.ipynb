{
 "cells": [
  {
   "cell_type": "code",
   "execution_count": 1,
   "metadata": {},
   "outputs": [],
   "source": [
    "#write a python program to design a stack datastructure"
   ]
  },
  {
   "cell_type": "code",
   "execution_count": 14,
   "metadata": {},
   "outputs": [],
   "source": [
    "list = []\n",
    "\n",
    "def push(x):\n",
    "    list.insert(0, x)\n",
    "    \n",
    "def pop():\n",
    "    return list.pop(0)\n",
    "\n",
    "def display():\n",
    "    print(list)"
   ]
  },
  {
   "cell_type": "code",
   "execution_count": 8,
   "metadata": {},
   "outputs": [
    {
     "name": "stdout",
     "output_type": "stream",
     "text": [
      "[]\n"
     ]
    }
   ],
   "source": [
    "display()"
   ]
  },
  {
   "cell_type": "code",
   "execution_count": 15,
   "metadata": {},
   "outputs": [
    {
     "name": "stdout",
     "output_type": "stream",
     "text": [
      "[10]\n",
      "[20, 10]\n",
      "20\n",
      "[10]\n"
     ]
    }
   ],
   "source": [
    "push(10)\n",
    "display()\n",
    "push(20)\n",
    "display()\n",
    "print(pop())\n",
    "display()"
   ]
  },
  {
   "cell_type": "code",
   "execution_count": 11,
   "metadata": {},
   "outputs": [],
   "source": [
    "list2 = []\n",
    "\n",
    "def push2(x):\n",
    "    list2.insert(0, x)\n",
    "    \n",
    "def pop2():\n",
    "    return list2.pop(0)\n",
    "\n",
    "def display2():\n",
    "    print(list2)"
   ]
  },
  {
   "cell_type": "code",
   "execution_count": 12,
   "metadata": {},
   "outputs": [
    {
     "name": "stdout",
     "output_type": "stream",
     "text": [
      "[100]\n",
      "[200, 100]\n",
      "200\n",
      "[100]\n"
     ]
    }
   ],
   "source": [
    "push2(100)\n",
    "display2()\n",
    "push2(200)\n",
    "display2()\n",
    "print(pop2())\n",
    "display2()"
   ]
  },
  {
   "cell_type": "code",
   "execution_count": 16,
   "metadata": {},
   "outputs": [],
   "source": [
    "def create():\n",
    "    return []\n",
    "\n",
    "def push(stack, x):\n",
    "    stack.insert(0, x)\n",
    "    \n",
    "def pop(stack):\n",
    "    return stack.pop(0)\n",
    "\n",
    "def display(stack):\n",
    "    print(stack)"
   ]
  },
  {
   "cell_type": "code",
   "execution_count": 19,
   "metadata": {},
   "outputs": [
    {
     "name": "stdout",
     "output_type": "stream",
     "text": [
      "[]\n"
     ]
    }
   ],
   "source": [
    "s1 = create()\n",
    "display(s1)"
   ]
  },
  {
   "cell_type": "code",
   "execution_count": 20,
   "metadata": {},
   "outputs": [
    {
     "name": "stdout",
     "output_type": "stream",
     "text": [
      "[10]\n",
      "[20, 10]\n",
      "20\n",
      "[10]\n"
     ]
    }
   ],
   "source": [
    "push(s1, 10)\n",
    "display(s1)\n",
    "push(s1, 20)\n",
    "display(s1)\n",
    "print(pop(s1))\n",
    "display(s1)"
   ]
  },
  {
   "cell_type": "code",
   "execution_count": 21,
   "metadata": {},
   "outputs": [
    {
     "name": "stdout",
     "output_type": "stream",
     "text": [
      "[]\n",
      "[100]\n",
      "[200, 100]\n",
      "200\n",
      "[100]\n"
     ]
    }
   ],
   "source": [
    "s2 = create()\n",
    "display(s2)\n",
    "push(s2, 100)\n",
    "display(s2)\n",
    "push(s2, 200)\n",
    "display(s2)\n",
    "print(pop(s2))\n",
    "display(s2)"
   ]
  },
  {
   "cell_type": "code",
   "execution_count": 23,
   "metadata": {},
   "outputs": [
    {
     "name": "stdout",
     "output_type": "stream",
     "text": [
      "[400]\n"
     ]
    }
   ],
   "source": [
    "#issue1: interconnecting data and methods is the responsibility of programmer\n",
    "#issue2: ripple effect because of giving unrestricted access to data\n",
    "s2[0] = 400\n",
    "display(s2)"
   ]
  },
  {
   "cell_type": "code",
   "execution_count": null,
   "metadata": {},
   "outputs": [],
   "source": []
  }
 ],
 "metadata": {
  "kernelspec": {
   "display_name": "Python 3",
   "language": "python",
   "name": "python3"
  },
  "language_info": {
   "codemirror_mode": {
    "name": "ipython",
    "version": 3
   },
   "file_extension": ".py",
   "mimetype": "text/x-python",
   "name": "python",
   "nbconvert_exporter": "python",
   "pygments_lexer": "ipython3",
   "version": "3.7.4"
  }
 },
 "nbformat": 4,
 "nbformat_minor": 4
}
