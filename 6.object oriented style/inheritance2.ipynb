{
 "cells": [
  {
   "cell_type": "code",
   "execution_count": 5,
   "metadata": {},
   "outputs": [],
   "source": [
    "class PointedWeapon():\n",
    "    def __init__(self, damage):\n",
    "        self.__damage = damage\n",
    "    def attack(self):\n",
    "        print(\"character life gets affected by\", self.__damage , \"units\")\n",
    "    def __repr__(self):\n",
    "        return str(self.__damage)"
   ]
  },
  {
   "cell_type": "code",
   "execution_count": 6,
   "metadata": {},
   "outputs": [
    {
     "name": "stdout",
     "output_type": "stream",
     "text": [
      "5\n",
      "character life gets affected by 5 units\n",
      "5\n"
     ]
    }
   ],
   "source": [
    "knife = PointedWeapon(5)\n",
    "print(knife)\n",
    "knife.attack()\n",
    "print(knife)"
   ]
  },
  {
   "cell_type": "code",
   "execution_count": 7,
   "metadata": {},
   "outputs": [],
   "source": [
    "class RangedWeapon():\n",
    "    def __init__(self, damage, total, reduction):\n",
    "        self.__damage = damage\n",
    "        self.__total = total\n",
    "        self.__reduction = reduction\n",
    "    def attack(self):\n",
    "        print(\"character life gets affected by\", self.__damage , \"units\")\n",
    "        print(\"quantity gets reduced by\", self.__reduction , \"units\")\n",
    "        self.__total -= self.__reduction\n",
    "    def __repr__(self):\n",
    "        return str(self.__damage) + \",\" + str(self.__total) + \",\" + str(self.__reduction)"
   ]
  },
  {
   "cell_type": "code",
   "execution_count": 8,
   "metadata": {},
   "outputs": [
    {
     "name": "stdout",
     "output_type": "stream",
     "text": [
      "6,100,10\n",
      "character life gets affected by 6 units\n",
      "quantity gets reduced by 10 units\n",
      "6,90,10\n"
     ]
    }
   ],
   "source": [
    "sgun = RangedWeapon(6, 100, 10)\n",
    "print(sgun)\n",
    "sgun.attack()\n",
    "print(sgun)"
   ]
  },
  {
   "cell_type": "code",
   "execution_count": 10,
   "metadata": {},
   "outputs": [],
   "source": [
    "#Design weapons using inheritance\n",
    "class Weapon():\n",
    "    def __init__(self, damage):\n",
    "        self._damage = damage   \n",
    "    def __repr__(self):\n",
    "        return str(self._damage)"
   ]
  },
  {
   "cell_type": "code",
   "execution_count": 11,
   "metadata": {},
   "outputs": [],
   "source": [
    "class PointedWeapon(Weapon):\n",
    "    def attack(self):\n",
    "        print(\"character life gets affected by\", self._damage , \"units\")"
   ]
  },
  {
   "cell_type": "code",
   "execution_count": 12,
   "metadata": {},
   "outputs": [],
   "source": [
    "class RangedWeapon(Weapon):\n",
    "    def __init__(self, damage, total, reduction):\n",
    "        super().__init__(damage)\n",
    "        self.__total = total\n",
    "        self.__reduction = reduction\n",
    "    def attack(self):\n",
    "        print(\"character life gets affected by\", self._damage , \"units\")\n",
    "        print(\"quantity gets reduced by\", self.__reduction , \"units\")\n",
    "        self.__total -= self.__reduction\n",
    "    def __repr__(self):\n",
    "        return super().__repr__() + \",\" + str(self.__total) + \",\" + str(self.__reduction)"
   ]
  },
  {
   "cell_type": "code",
   "execution_count": 13,
   "metadata": {},
   "outputs": [
    {
     "name": "stdout",
     "output_type": "stream",
     "text": [
      "5\n",
      "character life gets affected by 5 units\n",
      "5\n"
     ]
    }
   ],
   "source": [
    "knife = PointedWeapon(5)\n",
    "print(knife)\n",
    "knife.attack()\n",
    "print(knife)"
   ]
  },
  {
   "cell_type": "code",
   "execution_count": 14,
   "metadata": {},
   "outputs": [
    {
     "name": "stdout",
     "output_type": "stream",
     "text": [
      "6,100,10\n",
      "character life gets affected by 6 units\n",
      "quantity gets reduced by 10 units\n",
      "6,90,10\n"
     ]
    }
   ],
   "source": [
    "sgun = RangedWeapon(6, 100, 10)\n",
    "print(sgun)\n",
    "sgun.attack()\n",
    "print(sgun)"
   ]
  },
  {
   "cell_type": "code",
   "execution_count": null,
   "metadata": {},
   "outputs": [],
   "source": []
  }
 ],
 "metadata": {
  "kernelspec": {
   "display_name": "Python 3",
   "language": "python",
   "name": "python3"
  },
  "language_info": {
   "codemirror_mode": {
    "name": "ipython",
    "version": 3
   },
   "file_extension": ".py",
   "mimetype": "text/x-python",
   "name": "python",
   "nbconvert_exporter": "python",
   "pygments_lexer": "ipython3",
   "version": "3.7.4"
  }
 },
 "nbformat": 4,
 "nbformat_minor": 4
}
