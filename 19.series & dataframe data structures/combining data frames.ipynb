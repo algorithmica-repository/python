{
 "cells": [
  {
   "cell_type": "code",
   "execution_count": 1,
   "metadata": {},
   "outputs": [],
   "source": [
    "import pandas as pd\n",
    "import numpy as np"
   ]
  },
  {
   "cell_type": "code",
   "execution_count": 3,
   "metadata": {},
   "outputs": [
    {
     "name": "stdout",
     "output_type": "stream",
     "text": [
      "   id   name\n",
      "0   0  name0\n",
      "1   1  name1\n",
      "2   2  name2\n",
      "3   3  name3\n",
      "4   4  name4\n",
      "5   5  name5\n",
      "6   6  name6\n",
      "7   7  name7\n",
      "8   8  name8\n",
      "9   9  name9\n"
     ]
    }
   ],
   "source": [
    "ids = np.arange(0,10)\n",
    "names=['name'+str(i) for i in range(10)]\n",
    "df1 = pd.DataFrame({'id':ids, 'name':names})\n",
    "print(df1)"
   ]
  },
  {
   "cell_type": "code",
   "execution_count": 5,
   "metadata": {},
   "outputs": [
    {
     "name": "stdout",
     "output_type": "stream",
     "text": [
      "   id    name\n",
      "0  10  name10\n",
      "1  11  name11\n",
      "2  12  name12\n",
      "3  13  name13\n",
      "4  14  name14\n",
      "5  15  name15\n",
      "6  16  name16\n",
      "7  17  name17\n",
      "8  18  name18\n",
      "9  19  name19\n"
     ]
    }
   ],
   "source": [
    "ids = np.arange(10,20)\n",
    "names=['name'+str(i) for i in range(10, 20)]\n",
    "df2 = pd.DataFrame({'id':ids, 'name':names})\n",
    "print(df2)"
   ]
  },
  {
   "cell_type": "code",
   "execution_count": 6,
   "metadata": {},
   "outputs": [
    {
     "name": "stdout",
     "output_type": "stream",
     "text": [
      "   id    name\n",
      "0   0   name0\n",
      "1   1   name1\n",
      "2   2   name2\n",
      "3   3   name3\n",
      "4   4   name4\n",
      "5   5   name5\n",
      "6   6   name6\n",
      "7   7   name7\n",
      "8   8   name8\n",
      "9   9   name9\n",
      "0  10  name10\n",
      "1  11  name11\n",
      "2  12  name12\n",
      "3  13  name13\n",
      "4  14  name14\n",
      "5  15  name15\n",
      "6  16  name16\n",
      "7  17  name17\n",
      "8  18  name18\n",
      "9  19  name19\n"
     ]
    }
   ],
   "source": [
    "#concatenate df1 and df2 rowwise\n",
    "df3 = pd.concat([df1, df2], axis=0)\n",
    "print(df3)"
   ]
  },
  {
   "cell_type": "code",
   "execution_count": 7,
   "metadata": {},
   "outputs": [
    {
     "name": "stdout",
     "output_type": "stream",
     "text": [
      "   id    name\n",
      "0  10  name10\n",
      "1  11  name11\n"
     ]
    }
   ],
   "source": [
    "print(df3.iloc[10:12])"
   ]
  },
  {
   "cell_type": "code",
   "execution_count": 9,
   "metadata": {},
   "outputs": [
    {
     "data": {
      "text/html": [
       "<div>\n",
       "<style scoped>\n",
       "    .dataframe tbody tr th:only-of-type {\n",
       "        vertical-align: middle;\n",
       "    }\n",
       "\n",
       "    .dataframe tbody tr th {\n",
       "        vertical-align: top;\n",
       "    }\n",
       "\n",
       "    .dataframe thead th {\n",
       "        text-align: right;\n",
       "    }\n",
       "</style>\n",
       "<table border=\"1\" class=\"dataframe\">\n",
       "  <thead>\n",
       "    <tr style=\"text-align: right;\">\n",
       "      <th></th>\n",
       "      <th>id</th>\n",
       "      <th>name</th>\n",
       "    </tr>\n",
       "  </thead>\n",
       "  <tbody>\n",
       "    <tr>\n",
       "      <td>0</td>\n",
       "      <td>0</td>\n",
       "      <td>name0</td>\n",
       "    </tr>\n",
       "    <tr>\n",
       "      <td>1</td>\n",
       "      <td>1</td>\n",
       "      <td>name1</td>\n",
       "    </tr>\n",
       "    <tr>\n",
       "      <td>2</td>\n",
       "      <td>2</td>\n",
       "      <td>name2</td>\n",
       "    </tr>\n",
       "    <tr>\n",
       "      <td>3</td>\n",
       "      <td>3</td>\n",
       "      <td>name3</td>\n",
       "    </tr>\n",
       "    <tr>\n",
       "      <td>4</td>\n",
       "      <td>4</td>\n",
       "      <td>name4</td>\n",
       "    </tr>\n",
       "    <tr>\n",
       "      <td>5</td>\n",
       "      <td>5</td>\n",
       "      <td>name5</td>\n",
       "    </tr>\n",
       "    <tr>\n",
       "      <td>6</td>\n",
       "      <td>6</td>\n",
       "      <td>name6</td>\n",
       "    </tr>\n",
       "    <tr>\n",
       "      <td>7</td>\n",
       "      <td>7</td>\n",
       "      <td>name7</td>\n",
       "    </tr>\n",
       "    <tr>\n",
       "      <td>8</td>\n",
       "      <td>8</td>\n",
       "      <td>name8</td>\n",
       "    </tr>\n",
       "    <tr>\n",
       "      <td>9</td>\n",
       "      <td>9</td>\n",
       "      <td>name9</td>\n",
       "    </tr>\n",
       "    <tr>\n",
       "      <td>10</td>\n",
       "      <td>10</td>\n",
       "      <td>name10</td>\n",
       "    </tr>\n",
       "    <tr>\n",
       "      <td>11</td>\n",
       "      <td>11</td>\n",
       "      <td>name11</td>\n",
       "    </tr>\n",
       "    <tr>\n",
       "      <td>12</td>\n",
       "      <td>12</td>\n",
       "      <td>name12</td>\n",
       "    </tr>\n",
       "    <tr>\n",
       "      <td>13</td>\n",
       "      <td>13</td>\n",
       "      <td>name13</td>\n",
       "    </tr>\n",
       "    <tr>\n",
       "      <td>14</td>\n",
       "      <td>14</td>\n",
       "      <td>name14</td>\n",
       "    </tr>\n",
       "    <tr>\n",
       "      <td>15</td>\n",
       "      <td>15</td>\n",
       "      <td>name15</td>\n",
       "    </tr>\n",
       "    <tr>\n",
       "      <td>16</td>\n",
       "      <td>16</td>\n",
       "      <td>name16</td>\n",
       "    </tr>\n",
       "    <tr>\n",
       "      <td>17</td>\n",
       "      <td>17</td>\n",
       "      <td>name17</td>\n",
       "    </tr>\n",
       "    <tr>\n",
       "      <td>18</td>\n",
       "      <td>18</td>\n",
       "      <td>name18</td>\n",
       "    </tr>\n",
       "    <tr>\n",
       "      <td>19</td>\n",
       "      <td>19</td>\n",
       "      <td>name19</td>\n",
       "    </tr>\n",
       "  </tbody>\n",
       "</table>\n",
       "</div>"
      ],
      "text/plain": [
       "    id    name\n",
       "0    0   name0\n",
       "1    1   name1\n",
       "2    2   name2\n",
       "3    3   name3\n",
       "4    4   name4\n",
       "5    5   name5\n",
       "6    6   name6\n",
       "7    7   name7\n",
       "8    8   name8\n",
       "9    9   name9\n",
       "10  10  name10\n",
       "11  11  name11\n",
       "12  12  name12\n",
       "13  13  name13\n",
       "14  14  name14\n",
       "15  15  name15\n",
       "16  16  name16\n",
       "17  17  name17\n",
       "18  18  name18\n",
       "19  19  name19"
      ]
     },
     "execution_count": 9,
     "metadata": {},
     "output_type": "execute_result"
    }
   ],
   "source": [
    "df3 = df3.reset_index(drop=True)\n",
    "df3"
   ]
  },
  {
   "cell_type": "code",
   "execution_count": 10,
   "metadata": {},
   "outputs": [
    {
     "name": "stdout",
     "output_type": "stream",
     "text": [
      "    id    name\n",
      "10  10  name10\n",
      "11  11  name11\n",
      "    id    name\n",
      "10  10  name10\n",
      "11  11  name11\n",
      "12  12  name12\n"
     ]
    }
   ],
   "source": [
    "print(df3.iloc[10:12])\n",
    "print(df3.loc[10:12])"
   ]
  },
  {
   "cell_type": "code",
   "execution_count": 11,
   "metadata": {},
   "outputs": [
    {
     "name": "stdout",
     "output_type": "stream",
     "text": [
      "   id   name  id    name\n",
      "0   0  name0  10  name10\n",
      "1   1  name1  11  name11\n",
      "2   2  name2  12  name12\n",
      "3   3  name3  13  name13\n",
      "4   4  name4  14  name14\n",
      "5   5  name5  15  name15\n",
      "6   6  name6  16  name16\n",
      "7   7  name7  17  name17\n",
      "8   8  name8  18  name18\n",
      "9   9  name9  19  name19\n"
     ]
    }
   ],
   "source": [
    "#concatenate df1 and df2 column wise\n",
    "df4 = pd.concat([df1, df2], axis=1)\n",
    "print(df4)"
   ]
  },
  {
   "cell_type": "code",
   "execution_count": 18,
   "metadata": {},
   "outputs": [
    {
     "name": "stdout",
     "output_type": "stream",
     "text": [
      "[0 1 2 3 4 5 6 7 8 9]\n",
      "['emp_name0', 'emp_name1', 'emp_name2', 'emp_name3', 'emp_name4', 'emp_name5', 'emp_name6', 'emp_name7', 'emp_name8', 'emp_name9']\n",
      "[ 8  4 14  1 13  3  7  6  2 19]\n",
      "   emp_id   emp_name  dept_id\n",
      "0       0  emp_name0        8\n",
      "1       1  emp_name1        4\n",
      "2       2  emp_name2       14\n",
      "3       3  emp_name3        1\n",
      "4       4  emp_name4       13\n",
      "5       5  emp_name5        3\n",
      "6       6  emp_name6        7\n",
      "7       7  emp_name7        6\n",
      "8       8  emp_name8        2\n",
      "9       9  emp_name9       19\n"
     ]
    }
   ],
   "source": [
    "#merge different frames for doing analysis across frames\n",
    "emp_ids = np.arange(0,10)\n",
    "print(emp_ids)\n",
    "emp_names = ['emp_name' + str(i) for i in range(10)]\n",
    "print(emp_names)\n",
    "dept_ids = np.random.choice(np.arange(0,20), 10, replace=True)\n",
    "print(dept_ids)\n",
    "emp = pd.DataFrame({'emp_id':emp_ids, 'emp_name': emp_names, 'dept_id':dept_ids})\n",
    "print(emp)"
   ]
  },
  {
   "cell_type": "code",
   "execution_count": 19,
   "metadata": {},
   "outputs": [
    {
     "name": "stdout",
     "output_type": "stream",
     "text": [
      "    dept_id dept_name\n",
      "0         0     dept0\n",
      "1         1     dept1\n",
      "2         2     dept2\n",
      "3         3     dept3\n",
      "4         4     dept4\n",
      "5         5     dept5\n",
      "6         6     dept6\n",
      "7         7     dept7\n",
      "8         8     dept8\n",
      "9         9     dept9\n",
      "10       10    dept10\n",
      "11       11    dept11\n"
     ]
    }
   ],
   "source": [
    "dept_ids = np.arange(0,12)\n",
    "dept_names = ['dept' + str(i) for i in range(12)]\n",
    "dept = pd.DataFrame({'dept_id':dept_ids, 'dept_name': dept_names})\n",
    "print(dept)"
   ]
  },
  {
   "cell_type": "code",
   "execution_count": 20,
   "metadata": {},
   "outputs": [
    {
     "name": "stdout",
     "output_type": "stream",
     "text": [
      "   emp_id   emp_name  dept_id dept_name\n",
      "0       0  emp_name0        8     dept8\n",
      "1       1  emp_name1        4     dept4\n",
      "2       3  emp_name3        1     dept1\n",
      "3       5  emp_name5        3     dept3\n",
      "4       6  emp_name6        7     dept7\n",
      "5       7  emp_name7        6     dept6\n",
      "6       8  emp_name8        2     dept2\n"
     ]
    }
   ],
   "source": [
    "tmp1 = pd.merge(emp, dept, on='dept_id', how='inner')\n",
    "print(tmp1)"
   ]
  },
  {
   "cell_type": "code",
   "execution_count": 21,
   "metadata": {},
   "outputs": [
    {
     "name": "stdout",
     "output_type": "stream",
     "text": [
      "    emp_id   emp_name  dept_id dept_name\n",
      "0      0.0  emp_name0        8     dept8\n",
      "1      1.0  emp_name1        4     dept4\n",
      "2      3.0  emp_name3        1     dept1\n",
      "3      5.0  emp_name5        3     dept3\n",
      "4      6.0  emp_name6        7     dept7\n",
      "5      7.0  emp_name7        6     dept6\n",
      "6      8.0  emp_name8        2     dept2\n",
      "7      NaN        NaN        0     dept0\n",
      "8      NaN        NaN        5     dept5\n",
      "9      NaN        NaN        9     dept9\n",
      "10     NaN        NaN       10    dept10\n",
      "11     NaN        NaN       11    dept11\n"
     ]
    }
   ],
   "source": [
    "tmp2 = pd.merge(emp, dept, on='dept_id', how='right')\n",
    "print(tmp2)"
   ]
  },
  {
   "cell_type": "code",
   "execution_count": 22,
   "metadata": {},
   "outputs": [
    {
     "name": "stdout",
     "output_type": "stream",
     "text": [
      "   emp_id   emp_name  dept_id dept_name\n",
      "0       0  emp_name0        8     dept8\n",
      "1       1  emp_name1        4     dept4\n",
      "2       2  emp_name2       14       NaN\n",
      "3       3  emp_name3        1     dept1\n",
      "4       4  emp_name4       13       NaN\n",
      "5       5  emp_name5        3     dept3\n",
      "6       6  emp_name6        7     dept7\n",
      "7       7  emp_name7        6     dept6\n",
      "8       8  emp_name8        2     dept2\n",
      "9       9  emp_name9       19       NaN\n"
     ]
    }
   ],
   "source": [
    "tmp3 = pd.merge(emp, dept, on='dept_id', how='left')\n",
    "print(tmp3)"
   ]
  },
  {
   "cell_type": "code",
   "execution_count": 23,
   "metadata": {},
   "outputs": [
    {
     "name": "stdout",
     "output_type": "stream",
     "text": [
      "    emp_id   emp_name  dept_id dept_name\n",
      "0      0.0  emp_name0        8     dept8\n",
      "1      1.0  emp_name1        4     dept4\n",
      "2      2.0  emp_name2       14       NaN\n",
      "3      3.0  emp_name3        1     dept1\n",
      "4      4.0  emp_name4       13       NaN\n",
      "5      5.0  emp_name5        3     dept3\n",
      "6      6.0  emp_name6        7     dept7\n",
      "7      7.0  emp_name7        6     dept6\n",
      "8      8.0  emp_name8        2     dept2\n",
      "9      9.0  emp_name9       19       NaN\n",
      "10     NaN        NaN        0     dept0\n",
      "11     NaN        NaN        5     dept5\n",
      "12     NaN        NaN        9     dept9\n",
      "13     NaN        NaN       10    dept10\n",
      "14     NaN        NaN       11    dept11\n"
     ]
    }
   ],
   "source": [
    "tmp3 = pd.merge(emp, dept, on='dept_id', how='outer')\n",
    "print(tmp3)"
   ]
  },
  {
   "cell_type": "code",
   "execution_count": null,
   "metadata": {},
   "outputs": [],
   "source": []
  }
 ],
 "metadata": {
  "kernelspec": {
   "display_name": "Python 3",
   "language": "python",
   "name": "python3"
  },
  "language_info": {
   "codemirror_mode": {
    "name": "ipython",
    "version": 3
   },
   "file_extension": ".py",
   "mimetype": "text/x-python",
   "name": "python",
   "nbconvert_exporter": "python",
   "pygments_lexer": "ipython3",
   "version": "3.7.4"
  }
 },
 "nbformat": 4,
 "nbformat_minor": 4
}
