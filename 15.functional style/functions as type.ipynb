{
 "cells": [
  {
   "cell_type": "code",
   "execution_count": 1,
   "metadata": {},
   "outputs": [],
   "source": [
    "#function as type/first class citizen"
   ]
  },
  {
   "cell_type": "code",
   "execution_count": 4,
   "metadata": {},
   "outputs": [
    {
     "name": "stdout",
     "output_type": "stream",
     "text": [
      "<function add at 0x000001D2A7B95AF8>\n",
      "<function add at 0x000001D2A7B95AF8>\n",
      "<class 'function'>\n",
      "<class 'function'>\n",
      "30\n",
      "30\n"
     ]
    }
   ],
   "source": [
    "#functions can be assigned to variables\n",
    "def add(a, b):\n",
    "    return a + b\n",
    "\n",
    "f = add\n",
    "print(f)\n",
    "print(add)\n",
    "print(type(f))\n",
    "print(type(add))\n",
    "print(f(10, 20))\n",
    "print(add(10, 20))"
   ]
  },
  {
   "cell_type": "code",
   "execution_count": 5,
   "metadata": {},
   "outputs": [
    {
     "name": "stdout",
     "output_type": "stream",
     "text": [
      "30\n"
     ]
    }
   ],
   "source": [
    "#functions can be passed to other functions\n",
    "def dummy(a, b, f):\n",
    "    return f(a, b)\n",
    "\n",
    "print(dummy(10, 20, add))"
   ]
  },
  {
   "cell_type": "code",
   "execution_count": 6,
   "metadata": {},
   "outputs": [],
   "source": [
    "#write a python program that computes absolute value for each element in list"
   ]
  },
  {
   "cell_type": "code",
   "execution_count": 7,
   "metadata": {},
   "outputs": [
    {
     "data": {
      "text/plain": [
       "[10, 20, 30, 5]"
      ]
     },
     "execution_count": 7,
     "metadata": {},
     "output_type": "execute_result"
    }
   ],
   "source": [
    "def abs_list(list):\n",
    "    res = []\n",
    "    for x in list:\n",
    "        res.append(abs(x))\n",
    "    return res\n",
    "\n",
    "abs_list([-10, 20, -30, -5])"
   ]
  },
  {
   "cell_type": "code",
   "execution_count": 8,
   "metadata": {},
   "outputs": [],
   "source": [
    "#write a python program that computes square for each element in list"
   ]
  },
  {
   "cell_type": "code",
   "execution_count": 9,
   "metadata": {},
   "outputs": [
    {
     "data": {
      "text/plain": [
       "[100, 400, 900, 25]"
      ]
     },
     "execution_count": 9,
     "metadata": {},
     "output_type": "execute_result"
    }
   ],
   "source": [
    "def square(x):\n",
    "    return x*x\n",
    "def square_list(list):\n",
    "    res = []\n",
    "    for x in list:\n",
    "        res.append(square(x))\n",
    "    return res\n",
    "\n",
    "square_list([-10, 20, -30, -5])"
   ]
  },
  {
   "cell_type": "code",
   "execution_count": 10,
   "metadata": {},
   "outputs": [
    {
     "name": "stdout",
     "output_type": "stream",
     "text": [
      "[10, 20, 30, 5]\n",
      "[100, 400, 900, 25]\n"
     ]
    }
   ],
   "source": [
    "#higher order functions are highly reusable functions\n",
    "def generic_list(list, f):\n",
    "    res = []\n",
    "    for x in list:\n",
    "        res.append(f(x))\n",
    "    return res\n",
    "\n",
    "print(generic_list([-10, 20, -30, -5], abs))\n",
    "print(generic_list([-10, 20, -30, -5], square))"
   ]
  },
  {
   "cell_type": "code",
   "execution_count": 14,
   "metadata": {},
   "outputs": [
    {
     "name": "stdout",
     "output_type": "stream",
     "text": [
      "<function factory.<locals>.mul at 0x000001D2A7BD8318>\n",
      "200\n",
      "0.5\n"
     ]
    }
   ],
   "source": [
    "#functions can return other functions\n",
    "def factory(op):\n",
    "    def mul(a, b):\n",
    "        return a*b\n",
    "    def div(a, b):\n",
    "        return a/b\n",
    "    if(op=='mul'):\n",
    "        return mul\n",
    "    elif(op=='div'):\n",
    "        return div\n",
    "    else:\n",
    "        return None\n",
    "\n",
    "print(factory('mul'))\n",
    "print(factory('mul')(10, 20))\n",
    "print(factory('div')(10, 20))"
   ]
  },
  {
   "cell_type": "code",
   "execution_count": 15,
   "metadata": {},
   "outputs": [],
   "source": [
    "#write a python program to measure the time performance of functions"
   ]
  },
  {
   "cell_type": "code",
   "execution_count": 16,
   "metadata": {},
   "outputs": [
    {
     "name": "stdout",
     "output_type": "stream",
     "text": [
      "0.0\n"
     ]
    }
   ],
   "source": [
    "import time\n",
    "start = time.time()\n",
    "add(10, 20)\n",
    "lapse = time.time() - start\n",
    "print(lapse)"
   ]
  },
  {
   "cell_type": "code",
   "execution_count": 17,
   "metadata": {},
   "outputs": [
    {
     "name": "stdout",
     "output_type": "stream",
     "text": [
      "0.0\n"
     ]
    }
   ],
   "source": [
    "start = time.time()\n",
    "square(10)\n",
    "lapse = time.time() - start\n",
    "print(lapse)"
   ]
  },
  {
   "cell_type": "code",
   "execution_count": 22,
   "metadata": {},
   "outputs": [
    {
     "name": "stdout",
     "output_type": "stream",
     "text": [
      "<function performance.<locals>.time_perf at 0x000001D2A7BD80D8>\n",
      "(30, 0.0)\n",
      "<function performance.<locals>.time_perf at 0x000001D2A7BD88B8>\n",
      "(100, 0.0)\n"
     ]
    }
   ],
   "source": [
    "def performance(f):\n",
    "    def time_perf(*args):\n",
    "        start = time.time()\n",
    "        res = f(*args)\n",
    "        lapse = time.time() - start\n",
    "        return res, lapse   \n",
    "    return time_perf\n",
    "\n",
    "f = performance(add)\n",
    "print(f)\n",
    "print(f(10,20))\n",
    "\n",
    "g = performance(square)\n",
    "print(g)\n",
    "print(g(10))"
   ]
  },
  {
   "cell_type": "code",
   "execution_count": null,
   "metadata": {},
   "outputs": [],
   "source": []
  }
 ],
 "metadata": {
  "kernelspec": {
   "display_name": "Python 3",
   "language": "python",
   "name": "python3"
  },
  "language_info": {
   "codemirror_mode": {
    "name": "ipython",
    "version": 3
   },
   "file_extension": ".py",
   "mimetype": "text/x-python",
   "name": "python",
   "nbconvert_exporter": "python",
   "pygments_lexer": "ipython3",
   "version": "3.7.4"
  }
 },
 "nbformat": 4,
 "nbformat_minor": 4
}
