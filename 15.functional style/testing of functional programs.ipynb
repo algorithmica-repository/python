{
 "cells": [
  {
   "cell_type": "code",
   "execution_count": 1,
   "metadata": {},
   "outputs": [],
   "source": [
    "#write a python function to compute euclidian distance between points"
   ]
  },
  {
   "cell_type": "code",
   "execution_count": 4,
   "metadata": {},
   "outputs": [],
   "source": [
    "def euclidian_distance(u, v):\n",
    "    tmp = u - v\n",
    "    return np.sqrt(np.sum(tmp ** 2))"
   ]
  },
  {
   "cell_type": "code",
   "execution_count": 8,
   "metadata": {},
   "outputs": [
    {
     "name": "stdout",
     "output_type": "stream",
     "text": [
      "[4 4]\n",
      "[4 6]\n",
      "2.0\n"
     ]
    }
   ],
   "source": [
    "import numpy as np\n",
    "def testCase1():\n",
    "    u = np.random.randint(1, 10, size=2)\n",
    "    print(u)\n",
    "    v = np.random.randint(1, 10, size=2)\n",
    "    print(v)\n",
    "    res = euclidian_distance(u, v)\n",
    "    print(res)\n",
    "    assert res >= 0\n",
    "testCase1()"
   ]
  },
  {
   "cell_type": "code",
   "execution_count": 11,
   "metadata": {},
   "outputs": [
    {
     "name": "stdout",
     "output_type": "stream",
     "text": [
      "[1 7]\n",
      "[1 7]\n",
      "0.0\n"
     ]
    }
   ],
   "source": [
    "def testCase2():\n",
    "    u = np.random.randint(1, 10, size=2)\n",
    "    print(u)\n",
    "    v = u\n",
    "    print(v)\n",
    "    res = euclidian_distance(u, v)\n",
    "    print(res)\n",
    "    assert res == 0\n",
    "testCase2()"
   ]
  },
  {
   "cell_type": "code",
   "execution_count": 12,
   "metadata": {},
   "outputs": [
    {
     "name": "stdout",
     "output_type": "stream",
     "text": [
      "[9 6]\n",
      "[2 2]\n",
      "8.06225774829855\n"
     ]
    }
   ],
   "source": [
    "def testCase3():\n",
    "    u = np.random.randint(1, 10, size=2)\n",
    "    print(u)\n",
    "    v = np.random.randint(1, 10, size=2)\n",
    "    print(v)\n",
    "    res = euclidian_distance(u, v)\n",
    "    print(res)\n",
    "    assert res == euclidian_distance(v, u)\n",
    "testCase3()"
   ]
  },
  {
   "cell_type": "code",
   "execution_count": null,
   "metadata": {},
   "outputs": [],
   "source": []
  }
 ],
 "metadata": {
  "kernelspec": {
   "display_name": "Python 3",
   "language": "python",
   "name": "python3"
  },
  "language_info": {
   "codemirror_mode": {
    "name": "ipython",
    "version": 3
   },
   "file_extension": ".py",
   "mimetype": "text/x-python",
   "name": "python",
   "nbconvert_exporter": "python",
   "pygments_lexer": "ipython3",
   "version": "3.7.4"
  }
 },
 "nbformat": 4,
 "nbformat_minor": 4
}
