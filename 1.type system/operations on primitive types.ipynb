{
 "cells": [
  {
   "cell_type": "code",
   "execution_count": 1,
   "metadata": {},
   "outputs": [
    {
     "name": "stdout",
     "output_type": "stream",
     "text": [
      "3\n",
      "3.3333333333333335\n",
      "3\n",
      "8\n",
      "1\n",
      "4.8\n"
     ]
    }
   ],
   "source": [
    "#arithmetic opertions\n",
    "print(1 + 2)\n",
    "print(10 / 3)\n",
    "print(10 // 3)\n",
    "print(2 ** 3)\n",
    "print(10 % 3)\n",
    "print(1.3 + 3.5)"
   ]
  },
  {
   "cell_type": "code",
   "execution_count": 2,
   "metadata": {},
   "outputs": [
    {
     "name": "stdout",
     "output_type": "stream",
     "text": [
      "False\n",
      "False\n",
      "True\n",
      "True\n"
     ]
    }
   ],
   "source": [
    "#relational operations\n",
    "print(1 > 4)\n",
    "print(10 < 3)\n",
    "print(10 == 10)\n",
    "print(10 >= 3)"
   ]
  },
  {
   "cell_type": "code",
   "execution_count": 5,
   "metadata": {},
   "outputs": [
    {
     "name": "stdout",
     "output_type": "stream",
     "text": [
      "False\n",
      "True\n",
      "False\n"
     ]
    }
   ],
   "source": [
    "#logical operations\n",
    "print( (10 > 3) and (10 > 20))\n",
    "print( (10 > 3) or (10 > 20))\n",
    "print(not True)"
   ]
  },
  {
   "cell_type": "code",
   "execution_count": 6,
   "metadata": {},
   "outputs": [
    {
     "name": "stdout",
     "output_type": "stream",
     "text": [
      "2163768635440\n",
      "algorithmica\n",
      "<class 'str'>\n"
     ]
    }
   ],
   "source": [
    "#string operations\n",
    "s = \"algorithmica\"\n",
    "print(id(s))\n",
    "print(s)\n",
    "print(type(s))"
   ]
  },
  {
   "cell_type": "code",
   "execution_count": 12,
   "metadata": {},
   "outputs": [
    {
     "name": "stdout",
     "output_type": "stream",
     "text": [
      "a\n",
      "al\n",
      "algo\n",
      "ithmica\n",
      "agrtmc\n",
      "acimhtirogla\n"
     ]
    }
   ],
   "source": [
    "#character access and slicing\n",
    "print(s[0])\n",
    "print(s[0:2])\n",
    "print(s[:4])\n",
    "print(s[5:])\n",
    "print(s[::2])\n",
    "print(s[::-1])"
   ]
  },
  {
   "cell_type": "code",
   "execution_count": 17,
   "metadata": {},
   "outputs": [
    {
     "name": "stdout",
     "output_type": "stream",
     "text": [
      "['we', 'love', 'python', 'language']\n",
      "['we', 'love', 'python', 'language', 'end']\n",
      "['we,love,python,language']\n",
      "['we', 'love', 'python', 'language']\n"
     ]
    }
   ],
   "source": [
    "#join and split\n",
    "line11 = \"we love python language\"\n",
    "print(line11.split())\n",
    "line12 = \"we     love    python language\\n end    \"\n",
    "print(line12.split())\n",
    "line21 = \"we,love,python,language\"\n",
    "print(line21.split())\n",
    "line22 = \"we,love,python,language\"\n",
    "print(line22.split(\",\"))"
   ]
  },
  {
   "cell_type": "code",
   "execution_count": 23,
   "metadata": {},
   "outputs": [
    {
     "name": "stdout",
     "output_type": "stream",
     "text": [
      "['we', 'love', 'python', 'language']\n",
      "welovepythonlanguage\n",
      "we love python language\n",
      "we@love@python@language\n"
     ]
    }
   ],
   "source": [
    "tokens = line11.split()\n",
    "print(tokens)\n",
    "res = ''.join(tokens)\n",
    "print(res)\n",
    "res = ' '.join(tokens)\n",
    "print(res)\n",
    "res = '@'.join(tokens)\n",
    "print(res)"
   ]
  },
  {
   "cell_type": "code",
   "execution_count": 28,
   "metadata": {},
   "outputs": [
    {
     "name": "stdout",
     "output_type": "stream",
     "text": [
      "2\n",
      "ALGORITHMICA\n",
      "algorithmica\n",
      "hello abc, welcome abc\n"
     ]
    }
   ],
   "source": [
    "print(s.count('a'))\n",
    "print(s.upper())\n",
    "print(s)\n",
    "print(\"hello {}, welcome {}\".format(\"abc\", \"abc\"))"
   ]
  },
  {
   "cell_type": "code",
   "execution_count": null,
   "metadata": {},
   "outputs": [],
   "source": []
  }
 ],
 "metadata": {
  "kernelspec": {
   "display_name": "Python 3",
   "language": "python",
   "name": "python3"
  },
  "language_info": {
   "codemirror_mode": {
    "name": "ipython",
    "version": 3
   },
   "file_extension": ".py",
   "mimetype": "text/x-python",
   "name": "python",
   "nbconvert_exporter": "python",
   "pygments_lexer": "ipython3",
   "version": "3.7.4"
  }
 },
 "nbformat": 4,
 "nbformat_minor": 4
}
