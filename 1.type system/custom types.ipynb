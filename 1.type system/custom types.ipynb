{
 "cells": [
  {
   "cell_type": "code",
   "execution_count": 1,
   "metadata": {},
   "outputs": [],
   "source": [
    "#class keyword can be used to create custom types in python"
   ]
  },
  {
   "cell_type": "code",
   "execution_count": 8,
   "metadata": {},
   "outputs": [],
   "source": [
    "class Customer():\n",
    "    def __init__(self, name, mobile):\n",
    "        self.name = name\n",
    "        self.mobile = mobile\n",
    "    def __str__(self):\n",
    "        return self.name + \",\" + str(self.mobile)"
   ]
  },
  {
   "cell_type": "code",
   "execution_count": 9,
   "metadata": {},
   "outputs": [
    {
     "name": "stdout",
     "output_type": "stream",
     "text": [
      "<class '__main__.Customer'>\n",
      "abc,12345\n"
     ]
    }
   ],
   "source": [
    "cust1 = Customer('abc', 12345)\n",
    "print(type(cust1))\n",
    "print(cust1)"
   ]
  },
  {
   "cell_type": "code",
   "execution_count": 11,
   "metadata": {},
   "outputs": [
    {
     "name": "stdout",
     "output_type": "stream",
     "text": [
      "<class '__main__.Customer'>\n",
      "def,23456\n"
     ]
    }
   ],
   "source": [
    "cust2 = Customer('def', 23456)\n",
    "print(type(cust2))\n",
    "print(cust2)"
   ]
  },
  {
   "cell_type": "code",
   "execution_count": 14,
   "metadata": {},
   "outputs": [
    {
     "name": "stdout",
     "output_type": "stream",
     "text": [
      "1764623709192\n",
      "1764623709192\n"
     ]
    }
   ],
   "source": [
    "cust3 = cust1\n",
    "print(id(cust3))\n",
    "print(id(cust1))"
   ]
  },
  {
   "cell_type": "code",
   "execution_count": null,
   "metadata": {},
   "outputs": [],
   "source": []
  }
 ],
 "metadata": {
  "kernelspec": {
   "display_name": "Python 3",
   "language": "python",
   "name": "python3"
  },
  "language_info": {
   "codemirror_mode": {
    "name": "ipython",
    "version": 3
   },
   "file_extension": ".py",
   "mimetype": "text/x-python",
   "name": "python",
   "nbconvert_exporter": "python",
   "pygments_lexer": "ipython3",
   "version": "3.7.4"
  }
 },
 "nbformat": 4,
 "nbformat_minor": 4
}
