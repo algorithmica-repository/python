{
 "cells": [
  {
   "cell_type": "code",
   "execution_count": 1,
   "metadata": {},
   "outputs": [],
   "source": [
    "import numpy as np"
   ]
  },
  {
   "cell_type": "code",
   "execution_count": 2,
   "metadata": {},
   "outputs": [
    {
     "name": "stdout",
     "output_type": "stream",
     "text": [
      "<class 'numpy.ndarray'>\n",
      "(2, 3, 3)\n"
     ]
    }
   ],
   "source": [
    "#create a random tensor\n",
    "a1 = np.random.randint(1, 20, size=(2,3,3))\n",
    "print(type(a1))\n",
    "print(a1.shape)"
   ]
  },
  {
   "cell_type": "code",
   "execution_count": 7,
   "metadata": {},
   "outputs": [
    {
     "name": "stdout",
     "output_type": "stream",
     "text": [
      "(2, 3)\n",
      "(1, 2, 3)\n",
      "(1, 2, 3)\n"
     ]
    }
   ],
   "source": [
    "#create a tensor by expansion/reshape\n",
    "a2 = np.random.randint(1, 10, size=(2,3))\n",
    "print(a2.shape)\n",
    "a3 = a2[np.newaxis, :, :]\n",
    "print(a3.shape)\n",
    "a4 = a2.reshape((1,2,3))\n",
    "print(a4.shape)"
   ]
  },
  {
   "cell_type": "code",
   "execution_count": 10,
   "metadata": {},
   "outputs": [
    {
     "name": "stdout",
     "output_type": "stream",
     "text": [
      "<class 'numpy.ndarray'>\n",
      "(4000, 6000, 3)\n",
      "[[[164 182 186]\n",
      "  [161 179 183]\n",
      "  [159 177 181]\n",
      "  ...\n",
      "  [  9   8   4]\n",
      "  [  8   7   3]\n",
      "  [  7   6   2]]\n",
      "\n",
      " [[164 182 186]\n",
      "  [161 179 183]\n",
      "  [160 178 182]\n",
      "  ...\n",
      "  [  9   8   4]\n",
      "  [  8   7   3]\n",
      "  [  7   6   2]]\n",
      "\n",
      " [[163 183 184]\n",
      "  [162 180 182]\n",
      "  [161 179 181]\n",
      "  ...\n",
      "  [  9   8   4]\n",
      "  [  9   8   4]\n",
      "  [  7   6   2]]\n",
      "\n",
      " ...\n",
      "\n",
      " [[146 166 167]\n",
      "  [148 168 169]\n",
      "  [150 170 171]\n",
      "  ...\n",
      "  [  7   6   4]\n",
      "  [  6   5   3]\n",
      "  [  7   6   4]]\n",
      "\n",
      " [[145 164 168]\n",
      "  [147 166 170]\n",
      "  [149 169 170]\n",
      "  ...\n",
      "  [  7   6   4]\n",
      "  [  7   6   4]\n",
      "  [  7   6   4]]\n",
      "\n",
      " [[145 164 168]\n",
      "  [145 164 168]\n",
      "  [146 165 169]\n",
      "  ...\n",
      "  [  6   5   3]\n",
      "  [  7   6   4]\n",
      "  [  7   6   4]]]\n"
     ]
    }
   ],
   "source": [
    "#create a tensor by reading files\n",
    "import matplotlib.pyplot as plt\n",
    "img = plt.imread(\"C:/users/algorithmica/python/image.jpg\")\n",
    "print(type(img))\n",
    "print(img.shape)\n",
    "print(img)"
   ]
  },
  {
   "cell_type": "code",
   "execution_count": null,
   "metadata": {},
   "outputs": [],
   "source": []
  }
 ],
 "metadata": {
  "kernelspec": {
   "display_name": "Python 3",
   "language": "python",
   "name": "python3"
  },
  "language_info": {
   "codemirror_mode": {
    "name": "ipython",
    "version": 3
   },
   "file_extension": ".py",
   "mimetype": "text/x-python",
   "name": "python",
   "nbconvert_exporter": "python",
   "pygments_lexer": "ipython3",
   "version": "3.7.4"
  }
 },
 "nbformat": 4,
 "nbformat_minor": 4
}
