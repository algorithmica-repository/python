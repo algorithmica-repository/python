{
 "cells": [
  {
   "cell_type": "code",
   "execution_count": 5,
   "metadata": {},
   "outputs": [
    {
     "name": "stdout",
     "output_type": "stream",
     "text": [
      "(10, 20, 30)\n",
      "<class 'tuple'>\n",
      "60\n",
      "(10, 20, 30, 40, 50)\n",
      "<class 'tuple'>\n",
      "150\n",
      "(10, 20, 30)\n",
      "<class 'tuple'>\n",
      "60\n"
     ]
    }
   ],
   "source": [
    "#functions with variable number of positional arguments(type1)\n",
    "def sum1(*args):\n",
    "    print(args)\n",
    "    print(type(args))\n",
    "    res = 0\n",
    "    for x in args:\n",
    "        res += x\n",
    "    return res\n",
    "\n",
    "print(sum1(10, 20, 30))\n",
    "print(sum1(10, 20, 30, 40, 50))\n",
    "print(sum1(*[10,20,30]))"
   ]
  },
  {
   "cell_type": "code",
   "execution_count": 11,
   "metadata": {},
   "outputs": [
    {
     "name": "stdout",
     "output_type": "stream",
     "text": [
      "{'v1': 10, 'v2': 20, 'v3': 30}\n",
      "<class 'dict'>\n",
      "60\n",
      "{'v1': 10, 'v2': 20, 'v3': 30}\n",
      "<class 'dict'>\n",
      "60\n"
     ]
    }
   ],
   "source": [
    "#functions with variable number of key-value arguments(type2)\n",
    "def sum2(**kwargs):\n",
    "    print(kwargs)\n",
    "    print(type(kwargs))\n",
    "    res = 0\n",
    "    for x in kwargs.values():\n",
    "        res += x\n",
    "    return res\n",
    "\n",
    "print(sum2(v1=10, v2=20, v3=30))\n",
    "print(sum2(**{'v1':10,'v2':20,'v3':30}))"
   ]
  },
  {
   "cell_type": "code",
   "execution_count": 13,
   "metadata": {},
   "outputs": [
    {
     "ename": "SyntaxError",
     "evalue": "positional argument follows keyword argument (<ipython-input-13-d7be31b986ff>, line 15)",
     "output_type": "error",
     "traceback": [
      "\u001b[1;36m  File \u001b[1;32m\"<ipython-input-13-d7be31b986ff>\"\u001b[1;36m, line \u001b[1;32m15\u001b[0m\n\u001b[1;33m    print(sum3(10, v2=20, v3=30, v1= 10, 20, 30))\u001b[0m\n\u001b[1;37m                                        ^\u001b[0m\n\u001b[1;31mSyntaxError\u001b[0m\u001b[1;31m:\u001b[0m positional argument follows keyword argument\n"
     ]
    }
   ],
   "source": [
    "#functions with variable number of positional and key-value arguments(type3)\n",
    "def sum3(*args, **kwargs):\n",
    "    print(args)\n",
    "    print(kwargs)\n",
    "    print(type(args))\n",
    "    print(type(kwargs))\n",
    "    res = 0\n",
    "    for x in args:\n",
    "        res += x\n",
    "    for x in kwargs.values():\n",
    "        res += x\n",
    "    return res\n",
    "\n",
    "print(sum3(10, 20, 30, v1=10, v2=20, v3=30))\n",
    "print(sum3(10, v2=20, v3=30, v1= 10, 20, 30))"
   ]
  },
  {
   "cell_type": "code",
   "execution_count": null,
   "metadata": {},
   "outputs": [],
   "source": []
  }
 ],
 "metadata": {
  "kernelspec": {
   "display_name": "Python 3",
   "language": "python",
   "name": "python3"
  },
  "language_info": {
   "codemirror_mode": {
    "name": "ipython",
    "version": 3
   },
   "file_extension": ".py",
   "mimetype": "text/x-python",
   "name": "python",
   "nbconvert_exporter": "python",
   "pygments_lexer": "ipython3",
   "version": "3.7.4"
  }
 },
 "nbformat": 4,
 "nbformat_minor": 4
}
