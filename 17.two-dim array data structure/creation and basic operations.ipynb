{
 "cells": [
  {
   "cell_type": "code",
   "execution_count": 1,
   "metadata": {},
   "outputs": [],
   "source": [
    "import numpy as np"
   ]
  },
  {
   "cell_type": "code",
   "execution_count": 3,
   "metadata": {},
   "outputs": [
    {
     "name": "stdout",
     "output_type": "stream",
     "text": [
      "<class 'numpy.ndarray'>\n",
      "2804363633168\n",
      "[[1 2 3]\n",
      " [3 4 5]]\n"
     ]
    },
    {
     "data": {
      "text/plain": [
       "array([[1, 2, 3],\n",
       "       [3, 4, 5]])"
      ]
     },
     "execution_count": 3,
     "metadata": {},
     "output_type": "execute_result"
    }
   ],
   "source": [
    "a1 = np.array([ [1,2,3], [3,4,5] ])\n",
    "a2 = np.random.randint(1, 10, size=(3,3))\n",
    "print(type(a1))\n",
    "print(id(a1))\n",
    "print(a1)\n",
    "a1"
   ]
  },
  {
   "cell_type": "code",
   "execution_count": 4,
   "metadata": {},
   "outputs": [
    {
     "name": "stdout",
     "output_type": "stream",
     "text": [
      "(2, 3)\n",
      "2\n",
      "24\n",
      "int32\n"
     ]
    }
   ],
   "source": [
    "print(a1.shape)\n",
    "print(a1.ndim)\n",
    "print(a1.nbytes)\n",
    "print(a1.dtype)"
   ]
  },
  {
   "cell_type": "code",
   "execution_count": 10,
   "metadata": {},
   "outputs": [
    {
     "name": "stdout",
     "output_type": "stream",
     "text": [
      "[[1 7 7]\n",
      " [1 5 8]\n",
      " [5 1 8]]\n",
      "7\n",
      "[[1 7 7]\n",
      " [1 5 8]\n",
      " [5 1 8]]\n",
      "[[7 7]\n",
      " [5 8]]\n",
      "[7 1]\n"
     ]
    }
   ],
   "source": [
    "#access elements of 2-d array\n",
    "print(a2)\n",
    "print(a2[0,2])\n",
    "print(a2[:,:])\n",
    "print(a2[0:2,1:3])\n",
    "print(a2[[0,2],[1]])"
   ]
  },
  {
   "cell_type": "code",
   "execution_count": 13,
   "metadata": {},
   "outputs": [
    {
     "name": "stdout",
     "output_type": "stream",
     "text": [
      "[[0 0 0]\n",
      " [0 0 0]]\n",
      "[[1 1 1]\n",
      " [1 1 1]]\n",
      "[[1 0 0]\n",
      " [0 1 0]\n",
      " [0 0 1]]\n"
     ]
    }
   ],
   "source": [
    "#create special  2-d arrays\n",
    "print(np.zeros((2,3), dtype=np.int16))\n",
    "print(np.ones((2,3), dtype=np.int16))\n",
    "print(np.eye(3, dtype=np.int16))"
   ]
  },
  {
   "cell_type": "code",
   "execution_count": 16,
   "metadata": {},
   "outputs": [
    {
     "data": {
      "text/plain": [
       "array([1, 7, 7, 1, 5, 8, 5, 1, 8])"
      ]
     },
     "execution_count": 16,
     "metadata": {},
     "output_type": "execute_result"
    }
   ],
   "source": [
    "#reshape of 2-d arrays\n",
    "print(np.reshape(a2, (1,9)))\n",
    "print(np.reshape(a2, -1))"
   ]
  },
  {
   "cell_type": "code",
   "execution_count": 24,
   "metadata": {},
   "outputs": [
    {
     "name": "stdout",
     "output_type": "stream",
     "text": [
      "[[2 3]\n",
      " [4 8]]\n",
      "[[4 6]\n",
      " [5 7]]\n",
      "[[2 3]\n",
      " [4 8]\n",
      " [4 6]\n",
      " [5 7]]\n",
      "[[2 3 4 6]\n",
      " [4 8 5 7]]\n"
     ]
    }
   ],
   "source": [
    "#concatenation\n",
    "a3 = np.random.randint(1, 10, size=(2,2))\n",
    "a4 = np.random.randint(1, 10, size=(2,2))\n",
    "print(a3)\n",
    "print(a4)\n",
    "print(np.concatenate([a3, a4]))\n",
    "print(np.concatenate([a3, a4], axis=1))"
   ]
  },
  {
   "cell_type": "code",
   "execution_count": 23,
   "metadata": {},
   "outputs": [
    {
     "name": "stdout",
     "output_type": "stream",
     "text": [
      "[[8 1 1 4]\n",
      " [1 8 9 4]]\n",
      "[[8 1]\n",
      " [1 8]\n",
      " [1 4]\n",
      " [9 4]]\n"
     ]
    }
   ],
   "source": [
    "print(np.hstack([a3, a4]))\n",
    "print(np.vstack([a3, a4]))"
   ]
  },
  {
   "cell_type": "code",
   "execution_count": null,
   "metadata": {},
   "outputs": [],
   "source": []
  }
 ],
 "metadata": {
  "kernelspec": {
   "display_name": "Python 3",
   "language": "python",
   "name": "python3"
  },
  "language_info": {
   "codemirror_mode": {
    "name": "ipython",
    "version": 3
   },
   "file_extension": ".py",
   "mimetype": "text/x-python",
   "name": "python",
   "nbconvert_exporter": "python",
   "pygments_lexer": "ipython3",
   "version": "3.7.4"
  }
 },
 "nbformat": 4,
 "nbformat_minor": 4
}
