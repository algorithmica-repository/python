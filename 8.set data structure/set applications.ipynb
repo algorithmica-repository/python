{
 "cells": [
  {
   "cell_type": "code",
   "execution_count": 2,
   "metadata": {},
   "outputs": [],
   "source": [
    "#write a python program that returns number of distinct elements exists in a given random integer data"
   ]
  },
  {
   "cell_type": "code",
   "execution_count": 3,
   "metadata": {},
   "outputs": [],
   "source": [
    "def countDistinct(numbers):\n",
    "    set1 = set()\n",
    "    for x in numbers:\n",
    "        set1.add(x)\n",
    "    return len(set1)"
   ]
  },
  {
   "cell_type": "code",
   "execution_count": 5,
   "metadata": {},
   "outputs": [
    {
     "name": "stdout",
     "output_type": "stream",
     "text": [
      "[5, 6, 6, 1, 4, 9, 5, 3, 7, 5, 5, 2, 3, 9, 1, 1, 8, 4, 1, 6, 3, 7, 9, 9, 3, 7, 2, 6, 2, 4, 3, 6, 2, 4, 4, 6, 7, 7, 7, 1, 6, 1, 4, 3, 1, 3, 4, 2, 2, 1, 6, 5, 2, 6, 1, 4, 5, 6, 6, 1, 9, 4, 2, 8, 7, 4, 9, 4, 1, 7, 5, 4, 5, 1, 5, 6, 1, 6, 9, 2, 2, 9, 1, 8, 4, 9, 1, 5, 1, 5, 6, 3, 5, 9, 2, 7, 5, 4, 6, 3]\n",
      "9\n"
     ]
    }
   ],
   "source": [
    "import random\n",
    "numbers = []\n",
    "for i in range(100):\n",
    "    numbers.append(random.randrange(1,10))\n",
    "print(numbers)\n",
    "print(countDistinct(numbers))"
   ]
  },
  {
   "cell_type": "code",
   "execution_count": null,
   "metadata": {},
   "outputs": [],
   "source": []
  }
 ],
 "metadata": {
  "kernelspec": {
   "display_name": "Python 3",
   "language": "python",
   "name": "python3"
  },
  "language_info": {
   "codemirror_mode": {
    "name": "ipython",
    "version": 3
   },
   "file_extension": ".py",
   "mimetype": "text/x-python",
   "name": "python",
   "nbconvert_exporter": "python",
   "pygments_lexer": "ipython3",
   "version": "3.7.4"
  }
 },
 "nbformat": 4,
 "nbformat_minor": 4
}
