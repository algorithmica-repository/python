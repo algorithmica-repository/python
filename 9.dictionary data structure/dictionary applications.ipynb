{
 "cells": [
  {
   "cell_type": "code",
   "execution_count": 1,
   "metadata": {},
   "outputs": [],
   "source": [
    "#write a python program that finds most frequent element in a given list of numbers(mode)"
   ]
  },
  {
   "cell_type": "code",
   "execution_count": 12,
   "metadata": {},
   "outputs": [],
   "source": [
    "def mode(numbers):\n",
    "    freq = {}\n",
    "    for x in numbers:\n",
    "        if x in freq:\n",
    "            freq[x] += 1\n",
    "        else:\n",
    "            freq[x] = 1\n",
    "    print(freq)\n",
    "    max = -1\n",
    "    mode = -1\n",
    "    for key in freq.keys():\n",
    "        if(freq.get(key) > max):\n",
    "            max = freq.get(key)\n",
    "            mode = key\n",
    "    return mode"
   ]
  },
  {
   "cell_type": "code",
   "execution_count": 11,
   "metadata": {},
   "outputs": [
    {
     "name": "stdout",
     "output_type": "stream",
     "text": [
      "[8, 7, 2, 8, 8, 2, 1, 5, 5, 3, 3, 5, 2, 8, 6, 6, 1, 4, 2, 9, 2, 4, 1, 1, 3, 6, 9, 6, 7, 3, 8, 4, 8, 6, 1, 9, 5, 1, 2, 4, 6, 9, 1, 7, 3, 4, 7, 3, 7, 3, 8, 1, 2, 4, 6, 1, 2, 3, 7, 7, 1, 1, 2, 4, 3, 4, 8, 6, 1, 7, 7, 2, 4, 4, 5, 1, 4, 4, 6, 9, 3, 8, 3, 1, 1, 2, 5, 8, 9, 6, 1, 8, 8, 6, 2, 4, 5, 7, 9, 6]\n",
      "{8: 12, 7: 10, 2: 12, 1: 16, 5: 7, 3: 11, 6: 12, 4: 13, 9: 7}\n",
      "1\n"
     ]
    }
   ],
   "source": [
    "import random\n",
    "numbers = []\n",
    "for i in range(100):\n",
    "    numbers.append(random.randrange(1, 10))\n",
    "print(numbers)\n",
    "print(mode(numbers))"
   ]
  },
  {
   "cell_type": "code",
   "execution_count": null,
   "metadata": {},
   "outputs": [],
   "source": []
  }
 ],
 "metadata": {
  "kernelspec": {
   "display_name": "Python 3",
   "language": "python",
   "name": "python3"
  },
  "language_info": {
   "codemirror_mode": {
    "name": "ipython",
    "version": 3
   },
   "file_extension": ".py",
   "mimetype": "text/x-python",
   "name": "python",
   "nbconvert_exporter": "python",
   "pygments_lexer": "ipython3",
   "version": "3.7.4"
  }
 },
 "nbformat": 4,
 "nbformat_minor": 4
}
