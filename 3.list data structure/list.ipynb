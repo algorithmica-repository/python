{
 "cells": [
  {
   "cell_type": "code",
   "execution_count": 1,
   "metadata": {},
   "outputs": [],
   "source": [
    "#list: A group of elements of unknown size in which relative relationship amont them."
   ]
  },
  {
   "cell_type": "code",
   "execution_count": 2,
   "metadata": {},
   "outputs": [],
   "source": [
    "list1 = [10, 10.5, True, 'abc', False]"
   ]
  },
  {
   "cell_type": "code",
   "execution_count": 3,
   "metadata": {},
   "outputs": [
    {
     "name": "stdout",
     "output_type": "stream",
     "text": [
      "2653879696712\n"
     ]
    }
   ],
   "source": [
    "print(id(list1))"
   ]
  },
  {
   "cell_type": "code",
   "execution_count": 4,
   "metadata": {},
   "outputs": [
    {
     "name": "stdout",
     "output_type": "stream",
     "text": [
      "<class 'list'>\n"
     ]
    }
   ],
   "source": [
    "print(type(list1))"
   ]
  },
  {
   "cell_type": "code",
   "execution_count": 32,
   "metadata": {},
   "outputs": [
    {
     "name": "stdout",
     "output_type": "stream",
     "text": [
      "[400, 400, 400, 400, 'False', 'True', 'True', False, 200, 200, 200]\n",
      "11\n"
     ]
    }
   ],
   "source": [
    "print(list1)\n",
    "print(len(list1))"
   ]
  },
  {
   "cell_type": "code",
   "execution_count": 8,
   "metadata": {},
   "outputs": [
    {
     "name": "stdout",
     "output_type": "stream",
     "text": [
      "[10, 10.5, True, 'abc', False]\n",
      "[10, 10.5, True, 'abc', False]\n",
      "2653879696712\n",
      "2653879696712\n",
      "[20, 10.5, True, 'abc', False]\n",
      "[20, 10.5, True, 'abc', False]\n"
     ]
    }
   ],
   "source": [
    "#copy of list\n",
    "list2 = list1\n",
    "print(list2)\n",
    "print(list1)\n",
    "print(id(list2))\n",
    "print(id(list1))\n",
    "list2[0] = 20\n",
    "print(list1)\n",
    "print(list2)"
   ]
  },
  {
   "cell_type": "code",
   "execution_count": 10,
   "metadata": {},
   "outputs": [
    {
     "name": "stdout",
     "output_type": "stream",
     "text": [
      "2653895065032\n",
      "2653879696712\n",
      "[20, 10.5, True, 'abc', False]\n",
      "[100, 10.5, True, 'abc', False]\n"
     ]
    }
   ],
   "source": [
    "list3 = list1.copy()\n",
    "print(id(list3))\n",
    "print(id(list1))\n",
    "list3[0] = 100\n",
    "print(list1)\n",
    "print(list3)"
   ]
  },
  {
   "cell_type": "code",
   "execution_count": 17,
   "metadata": {},
   "outputs": [
    {
     "name": "stdout",
     "output_type": "stream",
     "text": [
      "[400, 400, 400, 20, 'True', 'True', False, 200, 200, 200]\n",
      "[400, 400, 400, 400, 20, 'True', 'True', False, 200, 200, 200]\n",
      "[400, 400, 400, 400, 'False', 'True', 'True', False, 200, 200, 200]\n"
     ]
    }
   ],
   "source": [
    "#adding elements to list\n",
    "list1.append(200)\n",
    "print(list1)\n",
    "list1.insert(0, 400)\n",
    "print(list1)\n",
    "#replace elements\n",
    "list1[4] = 'False'\n",
    "print(list1)"
   ]
  },
  {
   "cell_type": "code",
   "execution_count": 14,
   "metadata": {},
   "outputs": [
    {
     "name": "stdout",
     "output_type": "stream",
     "text": [
      "200\n",
      "[400, 20, 10.5, True, 'abc', False]\n",
      "10.5\n",
      "[400, 20, True, 'abc', False]\n"
     ]
    }
   ],
   "source": [
    "#remove elements from list\n",
    "print(list1.pop())\n",
    "print(list1)\n",
    "print(list1.pop(2))\n",
    "print(list1)"
   ]
  },
  {
   "cell_type": "code",
   "execution_count": 25,
   "metadata": {},
   "outputs": [
    {
     "name": "stdout",
     "output_type": "stream",
     "text": [
      "[400, 400, 400, 400, 'False', 'True', 'True', False, 200, 200, 200]\n",
      "400\n",
      "False\n",
      "[400, 400, 400]\n",
      "[400, 400, 400, 400, 'False']\n",
      "[400, 'False', 'True', 'True', False, 200, 200, 200]\n",
      "[400, 400, 'False', 'True']\n"
     ]
    }
   ],
   "source": [
    "#access elements of list\n",
    "print(list1)\n",
    "print(list1[0])\n",
    "print(list1[4])\n",
    "print(list1[0:3])\n",
    "print(list1[:5])\n",
    "print(list1[3:])\n",
    "print(list1[0:7:2])"
   ]
  },
  {
   "cell_type": "code",
   "execution_count": 27,
   "metadata": {},
   "outputs": [
    {
     "name": "stdout",
     "output_type": "stream",
     "text": [
      "400\n",
      "400\n",
      "400\n",
      "400\n",
      "False\n",
      "True\n",
      "True\n",
      "False\n",
      "200\n",
      "200\n",
      "200\n",
      "0 400\n",
      "1 400\n",
      "2 400\n",
      "3 400\n",
      "4 False\n",
      "5 True\n",
      "6 True\n",
      "7 False\n",
      "8 200\n",
      "9 200\n",
      "10 200\n"
     ]
    }
   ],
   "source": [
    "#traversing/iterating elements of list\n",
    "for x in list1:\n",
    "    print(x)\n",
    "for i, x in enumerate(list1):\n",
    "    print(i, x)"
   ]
  },
  {
   "cell_type": "code",
   "execution_count": 28,
   "metadata": {},
   "outputs": [],
   "source": [
    "#create list of squares of numbers in a range\n",
    "def squares1(start, end):\n",
    "    squares = []\n",
    "    for x in range(start, end):\n",
    "        squares.append(x*x)\n",
    "    return squares"
   ]
  },
  {
   "cell_type": "code",
   "execution_count": 29,
   "metadata": {},
   "outputs": [
    {
     "data": {
      "text/plain": [
       "[16, 25, 36]"
      ]
     },
     "execution_count": 29,
     "metadata": {},
     "output_type": "execute_result"
    }
   ],
   "source": [
    "squares1(4, 7)"
   ]
  },
  {
   "cell_type": "code",
   "execution_count": 30,
   "metadata": {},
   "outputs": [],
   "source": [
    "#create list using comprehension\n",
    "def squares2(start, end):\n",
    "    return [x*x for x in range(start, end)]"
   ]
  },
  {
   "cell_type": "code",
   "execution_count": 31,
   "metadata": {},
   "outputs": [
    {
     "data": {
      "text/plain": [
       "[16, 25, 36]"
      ]
     },
     "execution_count": 31,
     "metadata": {},
     "output_type": "execute_result"
    }
   ],
   "source": [
    "squares2(4, 7)"
   ]
  },
  {
   "cell_type": "code",
   "execution_count": null,
   "metadata": {},
   "outputs": [],
   "source": []
  }
 ],
 "metadata": {
  "kernelspec": {
   "display_name": "Python 3",
   "language": "python",
   "name": "python3"
  },
  "language_info": {
   "codemirror_mode": {
    "name": "ipython",
    "version": 3
   },
   "file_extension": ".py",
   "mimetype": "text/x-python",
   "name": "python",
   "nbconvert_exporter": "python",
   "pygments_lexer": "ipython3",
   "version": "3.7.4"
  }
 },
 "nbformat": 4,
 "nbformat_minor": 4
}
