{
 "cells": [
  {
   "cell_type": "code",
   "execution_count": 1,
   "metadata": {},
   "outputs": [],
   "source": [
    "#write a python program that returns all the odd numbers available in a given array/list"
   ]
  },
  {
   "cell_type": "code",
   "execution_count": 2,
   "metadata": {},
   "outputs": [],
   "source": [
    "def oddNumbers(inp):\n",
    "    res = []\n",
    "    for x in inp:\n",
    "        if(x % 2==1):\n",
    "            res.append(x)\n",
    "    return res"
   ]
  },
  {
   "cell_type": "code",
   "execution_count": 5,
   "metadata": {},
   "outputs": [
    {
     "name": "stdout",
     "output_type": "stream",
     "text": [
      "[81, 44, 81, 71, 74, 31, 36, 49, 49, 71]\n",
      "[81, 81, 71, 31, 49, 49, 71]\n"
     ]
    }
   ],
   "source": [
    "import random\n",
    "inp = []\n",
    "for i in range(10):\n",
    "    inp.append(random.randrange(1, 100))\n",
    "print(inp)\n",
    "print(oddNumbers(inp))"
   ]
  },
  {
   "cell_type": "code",
   "execution_count": 6,
   "metadata": {},
   "outputs": [],
   "source": [
    "#write a python program that returns all armstrong numbers in a given list\n",
    "#armstrong number: a number which is equal to the sum of cubes of digits within number\n",
    "#153: 1 + 125 + 27"
   ]
  },
  {
   "cell_type": "code",
   "execution_count": 12,
   "metadata": {},
   "outputs": [],
   "source": [
    "def isArmStrong(x):\n",
    "    xcopy = x\n",
    "    sum = 0\n",
    "    while(x > 0):\n",
    "        d = x % 10\n",
    "        sum += (d * d * d)\n",
    "        x //= 10\n",
    "    return sum == xcopy"
   ]
  },
  {
   "cell_type": "code",
   "execution_count": 13,
   "metadata": {},
   "outputs": [
    {
     "name": "stdout",
     "output_type": "stream",
     "text": [
      "True\n"
     ]
    }
   ],
   "source": [
    "print(isArmStrong(153))"
   ]
  },
  {
   "cell_type": "code",
   "execution_count": 14,
   "metadata": {},
   "outputs": [],
   "source": [
    "def armStrongNumbers(inp):\n",
    "    res = []\n",
    "    for x in inp:\n",
    "        if(isArmStrong(x)):\n",
    "            res.append(x)\n",
    "    return res"
   ]
  },
  {
   "cell_type": "code",
   "execution_count": 15,
   "metadata": {},
   "outputs": [
    {
     "name": "stdout",
     "output_type": "stream",
     "text": [
      "[0, 1, 153, 370, 371, 407]\n"
     ]
    }
   ],
   "source": [
    "print(armStrongNumbers(range(1000)))"
   ]
  },
  {
   "cell_type": "code",
   "execution_count": null,
   "metadata": {},
   "outputs": [],
   "source": []
  }
 ],
 "metadata": {
  "kernelspec": {
   "display_name": "Python 3",
   "language": "python",
   "name": "python3"
  },
  "language_info": {
   "codemirror_mode": {
    "name": "ipython",
    "version": 3
   },
   "file_extension": ".py",
   "mimetype": "text/x-python",
   "name": "python",
   "nbconvert_exporter": "python",
   "pygments_lexer": "ipython3",
   "version": "3.7.4"
  }
 },
 "nbformat": 4,
 "nbformat_minor": 4
}
