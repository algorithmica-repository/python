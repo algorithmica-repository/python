{
 "cells": [
  {
   "cell_type": "code",
   "execution_count": 1,
   "metadata": {},
   "outputs": [],
   "source": [
    "#write a python program to display all the temperatures in a given array > 40"
   ]
  },
  {
   "cell_type": "code",
   "execution_count": 2,
   "metadata": {},
   "outputs": [],
   "source": [
    "import numpy as np"
   ]
  },
  {
   "cell_type": "code",
   "execution_count": 5,
   "metadata": {},
   "outputs": [],
   "source": [
    "def getTemp(arr):\n",
    "    res = []\n",
    "    for i in range(len(arr)):\n",
    "        if(arr[i] > 40):\n",
    "           res.append(arr[i])\n",
    "    return np.array(res)"
   ]
  },
  {
   "cell_type": "code",
   "execution_count": 6,
   "metadata": {},
   "outputs": [
    {
     "name": "stdout",
     "output_type": "stream",
     "text": [
      "[33  2 39  7 47 10 28 14 20 21 41 16 18 18  5  8 44 45 27  2 25 15  3  8\n",
      " 33 35 35 16  5 41 43 38 43 18 27 19 11 18 38 49 36 16 29 23 15 30 29 17\n",
      " 30 48 47 39 16 37 29 18 41  9 39 39 22  6 31 21 11  3 17  9 25 41 22 23\n",
      " 15  1 44 33  9 18 13  5 41 11 19  2 43 21 17 48 30 12 11  5 38 39 38 36\n",
      " 23 20  4 29]\n",
      "[47 41 44 45 41 43 43 49 48 47 41 41 44 41 43 48]\n"
     ]
    }
   ],
   "source": [
    "arr = np.random.randint(1,50, 100)\n",
    "print(arr)\n",
    "print(getTemp(arr))"
   ]
  },
  {
   "cell_type": "code",
   "execution_count": 7,
   "metadata": {},
   "outputs": [
    {
     "name": "stdout",
     "output_type": "stream",
     "text": [
      "35.1 µs ± 1.56 µs per loop (mean ± std. dev. of 7 runs, 10000 loops each)\n"
     ]
    }
   ],
   "source": [
    "%%timeit\n",
    "getTemp(arr)"
   ]
  },
  {
   "cell_type": "code",
   "execution_count": 12,
   "metadata": {},
   "outputs": [
    {
     "name": "stdout",
     "output_type": "stream",
     "text": [
      "[False False False False False  True  True  True  True]\n",
      "[6 7 8 9]\n",
      "[1 2 3]\n",
      "[1 6 7]\n"
     ]
    }
   ],
   "source": [
    "a = np.arange(1, 10)\n",
    "print(a > 5)\n",
    "#access elements by mask\n",
    "print(a[a>5])\n",
    "#access elements by index\n",
    "print(a[0:3])\n",
    "#access element by fancy index\n",
    "print(a[[0,5,6]])"
   ]
  },
  {
   "cell_type": "code",
   "execution_count": 13,
   "metadata": {},
   "outputs": [
    {
     "data": {
      "text/plain": [
       "array([47, 41, 44, 45, 41, 43, 43, 49, 48, 47, 41, 41, 44, 41, 43, 48])"
      ]
     },
     "execution_count": 13,
     "metadata": {},
     "output_type": "execute_result"
    }
   ],
   "source": [
    "arr[arr>40]"
   ]
  },
  {
   "cell_type": "code",
   "execution_count": 14,
   "metadata": {},
   "outputs": [
    {
     "name": "stdout",
     "output_type": "stream",
     "text": [
      "1.68 µs ± 21.2 ns per loop (mean ± std. dev. of 7 runs, 1000000 loops each)\n"
     ]
    }
   ],
   "source": [
    "%%timeit\n",
    "arr[arr>40]"
   ]
  },
  {
   "cell_type": "code",
   "execution_count": null,
   "metadata": {},
   "outputs": [],
   "source": [
    "#vectorized logical operations: >, <, ==, !=, <=, >=, np.greater, np.less, np.equal....."
   ]
  }
 ],
 "metadata": {
  "kernelspec": {
   "display_name": "Python 3",
   "language": "python",
   "name": "python3"
  },
  "language_info": {
   "codemirror_mode": {
    "name": "ipython",
    "version": 3
   },
   "file_extension": ".py",
   "mimetype": "text/x-python",
   "name": "python",
   "nbconvert_exporter": "python",
   "pygments_lexer": "ipython3",
   "version": "3.7.4"
  }
 },
 "nbformat": 4,
 "nbformat_minor": 4
}
