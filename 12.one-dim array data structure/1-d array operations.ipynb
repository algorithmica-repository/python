{
 "cells": [
  {
   "cell_type": "code",
   "execution_count": 1,
   "metadata": {},
   "outputs": [],
   "source": [
    "import numpy as np"
   ]
  },
  {
   "cell_type": "code",
   "execution_count": 2,
   "metadata": {},
   "outputs": [
    {
     "name": "stdout",
     "output_type": "stream",
     "text": [
      "<class 'numpy.ndarray'>\n",
      "2813414082560\n",
      "[10 20 30]\n"
     ]
    },
    {
     "data": {
      "text/plain": [
       "array([10, 20, 30])"
      ]
     },
     "execution_count": 2,
     "metadata": {},
     "output_type": "execute_result"
    }
   ],
   "source": [
    "#create numpy array using np.array\n",
    "a1 = np.array([10, 20, 30])\n",
    "print(type(a1))\n",
    "print(id(a1))\n",
    "print(a1)\n",
    "a1"
   ]
  },
  {
   "cell_type": "code",
   "execution_count": 3,
   "metadata": {},
   "outputs": [
    {
     "name": "stdout",
     "output_type": "stream",
     "text": [
      "(3,)\n",
      "1\n",
      "int32\n",
      "12\n"
     ]
    }
   ],
   "source": [
    "#attributes of an array\n",
    "print(a1.shape)\n",
    "print(a1.ndim)\n",
    "print(a1.dtype)\n",
    "print(a1.nbytes)"
   ]
  },
  {
   "cell_type": "code",
   "execution_count": 6,
   "metadata": {},
   "outputs": [
    {
     "name": "stdout",
     "output_type": "stream",
     "text": [
      "[10 20 30]\n",
      "int8\n",
      "3\n"
     ]
    }
   ],
   "source": [
    "a2 = np.array([10, 20, 30], dtype=np.int8)\n",
    "print(a2)\n",
    "print(a2.dtype)\n",
    "print(a2.nbytes)"
   ]
  },
  {
   "cell_type": "code",
   "execution_count": 8,
   "metadata": {},
   "outputs": [
    {
     "name": "stdout",
     "output_type": "stream",
     "text": [
      "[0.         0.33333333 0.66666667 1.        ]\n"
     ]
    },
    {
     "data": {
      "text/plain": [
       "array([0.        , 0.33333333, 0.66666667, 1.        ])"
      ]
     },
     "execution_count": 8,
     "metadata": {},
     "output_type": "execute_result"
    }
   ],
   "source": [
    "#create a numpy array using np.linspace\n",
    "a3 = np.linspace(0, 1, 4)\n",
    "print(a3)\n",
    "a3"
   ]
  },
  {
   "cell_type": "code",
   "execution_count": 13,
   "metadata": {},
   "outputs": [
    {
     "name": "stdout",
     "output_type": "stream",
     "text": [
      "[4 8 4 8 9 9 8 2 2 9 4 3 5 6 6]\n"
     ]
    },
    {
     "data": {
      "text/plain": [
       "array([4, 8, 4, 8, 9, 9, 8, 2, 2, 9, 4, 3, 5, 6, 6])"
      ]
     },
     "execution_count": 13,
     "metadata": {},
     "output_type": "execute_result"
    }
   ],
   "source": [
    "#create a numpy array using np.random.randint\n",
    "a4 = np.random.randint(1, 10, size=15)\n",
    "print(a4)\n",
    "a4"
   ]
  },
  {
   "cell_type": "code",
   "execution_count": 17,
   "metadata": {},
   "outputs": [
    {
     "name": "stdout",
     "output_type": "stream",
     "text": [
      "[0 0 0]\n",
      "[1 1 1]\n",
      "[0. 0. 0.]\n"
     ]
    }
   ],
   "source": [
    "#create special 1-d arrays\n",
    "print(np.zeros(3, dtype=np.int8))\n",
    "print(np.ones(3, dtype=np.int8))\n",
    "print(np.empty(3))"
   ]
  },
  {
   "cell_type": "code",
   "execution_count": 22,
   "metadata": {},
   "outputs": [
    {
     "name": "stdout",
     "output_type": "stream",
     "text": [
      "6\n",
      "[ 8  9 10]\n",
      "[5 8]\n",
      "10\n",
      "[1 6]\n"
     ]
    }
   ],
   "source": [
    "#access elements of 1-d array\n",
    "a5 = np.array([1, 5, 6, 8, 9, 10])\n",
    "print(a5[2])\n",
    "print(a5[3:6])\n",
    "print(a5[1:4:2])\n",
    "print(a5[-1])\n",
    "print(a5[[0,2]]) #fancy indexing"
   ]
  },
  {
   "cell_type": "code",
   "execution_count": 24,
   "metadata": {},
   "outputs": [
    {
     "name": "stdout",
     "output_type": "stream",
     "text": [
      "2813414234912\n",
      "2813414234912\n",
      "2813414252912\n"
     ]
    }
   ],
   "source": [
    "#clone/copy of 1-d array\n",
    "a6 = a5\n",
    "print(id(a6))\n",
    "print(id(a5))\n",
    "a7 = a5.copy()\n",
    "print(id(a7))"
   ]
  },
  {
   "cell_type": "code",
   "execution_count": 34,
   "metadata": {},
   "outputs": [
    {
     "name": "stdout",
     "output_type": "stream",
     "text": [
      "(6,)\n",
      "[[ 1  5  6]\n",
      " [ 8  9 10]]\n",
      "[[ 1  5  6  8  9 10]]\n",
      "[[ 1  5  6  8  9 10]]\n",
      "[[ 1]\n",
      " [ 5]\n",
      " [ 6]\n",
      " [ 8]\n",
      " [ 9]\n",
      " [10]]\n",
      "[[ 1]\n",
      " [ 5]\n",
      " [ 6]\n",
      " [ 8]\n",
      " [ 9]\n",
      " [10]]\n"
     ]
    }
   ],
   "source": [
    "#reshape\n",
    "print(a5.shape)\n",
    "print(a5.reshape(2,3))\n",
    "print(a5.reshape(1,6))\n",
    "print(a5[np.newaxis, :])\n",
    "print(a5.reshape(6,1))\n",
    "print(a5[:, np.newaxis])"
   ]
  },
  {
   "cell_type": "code",
   "execution_count": null,
   "metadata": {},
   "outputs": [],
   "source": []
  }
 ],
 "metadata": {
  "kernelspec": {
   "display_name": "Python 3",
   "language": "python",
   "name": "python3"
  },
  "language_info": {
   "codemirror_mode": {
    "name": "ipython",
    "version": 3
   },
   "file_extension": ".py",
   "mimetype": "text/x-python",
   "name": "python",
   "nbconvert_exporter": "python",
   "pygments_lexer": "ipython3",
   "version": "3.7.4"
  }
 },
 "nbformat": 4,
 "nbformat_minor": 4
}
