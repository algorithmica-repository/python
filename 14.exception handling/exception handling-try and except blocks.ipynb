{
 "cells": [
  {
   "cell_type": "code",
   "execution_count": 2,
   "metadata": {},
   "outputs": [
    {
     "name": "stdout",
     "output_type": "stream",
     "text": [
      "30\n",
      "type error \n",
      "None\n",
      "70\n"
     ]
    }
   ],
   "source": [
    "#handling exception in a generic way\n",
    "def dummy11(a, b):\n",
    "    try:\n",
    "        c = a / b\n",
    "        return a  + b\n",
    "    except:\n",
    "        print(\"type error \")\n",
    "print(dummy11(10, 20))\n",
    "print(dummy11(\"abc\", 30))\n",
    "print(dummy11(30, 40))"
   ]
  },
  {
   "cell_type": "code",
   "execution_count": 3,
   "metadata": {},
   "outputs": [
    {
     "name": "stdout",
     "output_type": "stream",
     "text": [
      "30\n",
      "can only concatenate str (not \"int\") to str\n",
      "None\n",
      "70\n"
     ]
    }
   ],
   "source": [
    "#handle exceptions specifically-I\n",
    "def dummy12(a, b):\n",
    "    try:\n",
    "        return a  + b\n",
    "    except TypeError as error:\n",
    "        print(error)\n",
    "print(dummy12(10, 20))\n",
    "print(dummy12(\"abc\", 30))\n",
    "print(dummy12(30, 40))"
   ]
  },
  {
   "cell_type": "code",
   "execution_count": 6,
   "metadata": {},
   "outputs": [
    {
     "name": "stdout",
     "output_type": "stream",
     "text": [
      "30\n",
      "unsupported operand type(s) for /: 'str' and 'int'\n",
      "None\n",
      "division by zero\n",
      "None\n",
      "70\n"
     ]
    }
   ],
   "source": [
    "#handle exceptions specifically-II\n",
    "def dummy13(a, b):\n",
    "    try:\n",
    "        c = a / b\n",
    "        return a  + b\n",
    "    except TypeError as terror:\n",
    "        print(terror)\n",
    "    except ZeroDivisionError as zerror:\n",
    "        print(zerror)\n",
    "print(dummy13(10, 20))\n",
    "print(dummy13(\"abc\", 30))\n",
    "print(dummy13(10, 0))\n",
    "print(dummy13(30, 40))"
   ]
  },
  {
   "cell_type": "code",
   "execution_count": 7,
   "metadata": {},
   "outputs": [
    {
     "name": "stdout",
     "output_type": "stream",
     "text": [
      "30\n",
      "unsupported operand type(s) for /: 'str' and 'int'\n",
      "None\n",
      "division by zero\n",
      "None\n",
      "70\n"
     ]
    }
   ],
   "source": [
    "#handle exceptions specifically-III\n",
    "def dummy14(a, b):\n",
    "    try:\n",
    "        c = a / b\n",
    "        return a  + b\n",
    "    except TypeError as terror:\n",
    "        print(terror)\n",
    "    except ZeroDivisionError as zerror:\n",
    "        print(zerror)\n",
    "    except:\n",
    "        print(\"error \")\n",
    "print(dummy14(10, 20))\n",
    "print(dummy14(\"abc\", 30))\n",
    "print(dummy14(10, 0))\n",
    "print(dummy14(30, 40))"
   ]
  },
  {
   "cell_type": "code",
   "execution_count": null,
   "metadata": {},
   "outputs": [],
   "source": []
  }
 ],
 "metadata": {
  "kernelspec": {
   "display_name": "Python 3",
   "language": "python",
   "name": "python3"
  },
  "language_info": {
   "codemirror_mode": {
    "name": "ipython",
    "version": 3
   },
   "file_extension": ".py",
   "mimetype": "text/x-python",
   "name": "python",
   "nbconvert_exporter": "python",
   "pygments_lexer": "ipython3",
   "version": "3.7.4"
  }
 },
 "nbformat": 4,
 "nbformat_minor": 4
}
